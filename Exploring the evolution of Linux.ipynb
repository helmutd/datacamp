{
 "cells": [
  {
   "cell_type": "markdown",
   "metadata": {},
   "source": [
    "# Exploring the evolution of Linux\n",
    "## 1. Introduction"
   ]
  },
  {
   "cell_type": "markdown",
   "metadata": {},
   "source": [
    "Version control repositories like CVS, Subversion or Git can be a real gold mine for software developers. They contain every change to the source code including the date (the \"when\"), the responsible developer (the \"who\"), as well as little message that describes the intention (the \"what\") of a change.\n",
    "\n",
    "![Tux - the Linux mascot](img/04_tux.png)\n",
    "\n",
    "In this notebook, we will analyze the evolution of a very famous open-source project – the Linux kernel. The Linux kernel is the heart of some Linux distributions like Debian, Ubuntu or CentOS.\n",
    "\n",
    "We get some first insights into the work of the development efforts by\n",
    "\n",
    "* identifying the TOP 10 contributors and\n",
    "* visualizing the commits over the years.\n",
    "\n",
    "Linus Torvalds, the (spoiler alert!) main contributor to the Linux kernel (and also the creator of Git), created a [mirror of the Linux repository on GitHub](https://github.com/torvalds/linux/). It contains the complete history of kernel development for the last 13 years.\n",
    "\n",
    "For our analysis, we will use a Git log file with the following content:"
   ]
  },
  {
   "cell_type": "markdown",
   "metadata": {},
   "source": [
    "### Instructions"
   ]
  },
  {
   "cell_type": "markdown",
   "metadata": {},
   "source": [
    "Print out the raw data in the Git log file to show the available format.\n",
    "\n",
    "* Print out the content of the sample file **datasets/git_log_excerpt.csv**.\n",
    "\n",
    "**Good to know**\n",
    "\n",
    "This Project requires that you know your way around Python and Pandas. We recommend that you have complete these DataCamp courses before doing this project:\n",
    "\n",
    "* [Intro to Python for Data Science](https://www.datacamp.com/courses/intro-to-python-for-data-science)\n",
    "* [Pandas Foundations](https://www.datacamp.com/courses/pandas-foundations)\n",
    "\n",
    "It can also be helpful to take a look at [this exercise from Manipulating Time Series Data in Python](https://campus.datacamp.com/courses/manipulating-time-series-data-in-python/working-with-time-series-in-pandas?ex=4) to learn how to create timestamp columns in DataFrames."
   ]
  },
  {
   "cell_type": "code",
   "execution_count": 1,
   "metadata": {},
   "outputs": [
    {
     "name": "stdout",
     "output_type": "stream",
     "text": [
      "1502382966#Linus Torvalds\n",
      "1501368308#Max Gurtovoy\n",
      "1501625560#James Smart\n",
      "1501625559#James Smart\n",
      "1500568442#Martin Wilck\n",
      "1502273719#Xin Long\n",
      "1502278684#Nikolay Borisov\n",
      "1502238384#Girish Moodalbail\n",
      "1502228709#Florian Fainelli\n",
      "1502223836#Jon Paul Maloy\n"
     ]
    }
   ],
   "source": [
    "with open('datasets/git_log_excerpt.csv') as f:\n",
    "    read_data = f.read()\n",
    "print(read_data)"
   ]
  },
  {
   "cell_type": "markdown",
   "metadata": {},
   "source": [
    "## 2. Reading in the dataset"
   ]
  },
  {
   "cell_type": "markdown",
   "metadata": {},
   "source": [
    "The dataset was created by using the command git log --encoding=latin-1 --pretty=\"%at#%aN\". The latin-1 encoded text output was saved in a header-less csv file. In this file, each row is a commit entry with the following information:\n",
    "\n",
    "* **timestamp**: the time of the commit as a UNIX timestamp in seconds since 1970-01-01 00:00:00 (Git log placeholder \"%at\")\n",
    "* **author**: the name of the author that performed the commit (Git log placeholder \"%aN\")\n",
    "\n",
    "The columns are separated by the number sign #. The complete dataset is in the datasets/ directory. It is a gz-compressed csv file named git_log.gz."
   ]
  },
  {
   "cell_type": "markdown",
   "metadata": {},
   "source": [
    "### Instructions"
   ]
  },
  {
   "cell_type": "markdown",
   "metadata": {},
   "source": [
    "Read in the Linux Git log file with Pandas.\n",
    "\n",
    "* Load in the **pandas** module as pd.\n",
    "* Read in the log file **datasets/git_log.gz** and assign the resulting DataFrame to **git_log**. Name the first column **\"timestamp\"** and the second column **\"author\"**.\n",
    "* Print out the first rows of git_log.\n",
    "\n",
    "The **pandas** method **read_csv** can automatically read a csv file compressed into a **gz** file. To read in the data correctly, you will have to specify the **sep**, **encoding**, **header**, and **names** arguments to **read_csv**. The **compression** parameter is optional because its default value is set to **infer**. This will derive the right decompression algorithm from the file's extension."
   ]
  },
  {
   "cell_type": "code",
   "execution_count": 2,
   "metadata": {},
   "outputs": [
    {
     "data": {
      "text/html": [
       "<div>\n",
       "<style scoped>\n",
       "    .dataframe tbody tr th:only-of-type {\n",
       "        vertical-align: middle;\n",
       "    }\n",
       "\n",
       "    .dataframe tbody tr th {\n",
       "        vertical-align: top;\n",
       "    }\n",
       "\n",
       "    .dataframe thead th {\n",
       "        text-align: right;\n",
       "    }\n",
       "</style>\n",
       "<table border=\"1\" class=\"dataframe\">\n",
       "  <thead>\n",
       "    <tr style=\"text-align: right;\">\n",
       "      <th></th>\n",
       "      <th>timestamp</th>\n",
       "      <th>author</th>\n",
       "    </tr>\n",
       "  </thead>\n",
       "  <tbody>\n",
       "    <tr>\n",
       "      <th>0</th>\n",
       "      <td>1502826583</td>\n",
       "      <td>Linus Torvalds</td>\n",
       "    </tr>\n",
       "    <tr>\n",
       "      <th>1</th>\n",
       "      <td>1501749089</td>\n",
       "      <td>Adrian Hunter</td>\n",
       "    </tr>\n",
       "    <tr>\n",
       "      <th>2</th>\n",
       "      <td>1501749088</td>\n",
       "      <td>Adrian Hunter</td>\n",
       "    </tr>\n",
       "    <tr>\n",
       "      <th>3</th>\n",
       "      <td>1501882480</td>\n",
       "      <td>Kees Cook</td>\n",
       "    </tr>\n",
       "    <tr>\n",
       "      <th>4</th>\n",
       "      <td>1497271395</td>\n",
       "      <td>Rob Clark</td>\n",
       "    </tr>\n",
       "  </tbody>\n",
       "</table>\n",
       "</div>"
      ],
      "text/plain": [
       "    timestamp          author\n",
       "0  1502826583  Linus Torvalds\n",
       "1  1501749089   Adrian Hunter\n",
       "2  1501749088   Adrian Hunter\n",
       "3  1501882480       Kees Cook\n",
       "4  1497271395       Rob Clark"
      ]
     },
     "execution_count": 2,
     "metadata": {},
     "output_type": "execute_result"
    }
   ],
   "source": [
    "# Loading in the pandas module\n",
    "import pandas as pd\n",
    "\n",
    "# Reading in the log file\n",
    "git_log = pd.read_csv('datasets/git_log.bz', \n",
    "                      sep='#', \n",
    "                      encoding='latin-1', \n",
    "                      header=None, \n",
    "                      names=['timestamp', 'author'])\n",
    "\n",
    "# Printing out the first 5 rows\n",
    "git_log.head(5)"
   ]
  },
  {
   "cell_type": "markdown",
   "metadata": {
    "collapsed": true
   },
   "source": [
    "## 3. Getting an overview"
   ]
  },
  {
   "cell_type": "markdown",
   "metadata": {},
   "source": [
    "The dataset contains the information about every single code contribution (a \"commit\") to the Linux kernel over the last 13 years. We'll first take a look at the number of authors and their commits to the repository."
   ]
  },
  {
   "cell_type": "markdown",
   "metadata": {},
   "source": [
    "### Instructions"
   ]
  },
  {
   "cell_type": "markdown",
   "metadata": {},
   "source": [
    "Gather some basic metrics about Linux's Git repository.\n",
    "\n",
    "* Count the number of commits in **git_log**.\n",
    "* Count the number of all contributing authors. Leave out the entries that don't have an author at all.\n",
    "\n",
    "Here, use some basic functions of Python, Pandas' **DataFrame** and **Series** to count values and to remove missing data."
   ]
  },
  {
   "cell_type": "code",
   "execution_count": 3,
   "metadata": {},
   "outputs": [
    {
     "name": "stdout",
     "output_type": "stream",
     "text": [
      "17385 authors committed 699071 code changes.\n"
     ]
    }
   ],
   "source": [
    "# calculating number of commits\n",
    "number_of_commits = git_log['timestamp'].count()\n",
    "\n",
    "# calculating number of authors\n",
    "number_of_authors = len(git_log['author'].dropna().unique())\n",
    "\n",
    "# printing out the results\n",
    "print(\"%s authors committed %s code changes.\" % (number_of_authors, number_of_commits))"
   ]
  },
  {
   "cell_type": "markdown",
   "metadata": {},
   "source": [
    "## 4. Finding the TOP 10 contributors"
   ]
  },
  {
   "cell_type": "markdown",
   "metadata": {},
   "source": [
    "There are some very important people that changed the Linux kernel very often. To see if there are any bottlenecks, we take a look at the TOP 10 authors with the most commits."
   ]
  },
  {
   "cell_type": "markdown",
   "metadata": {},
   "source": [
    "### Instructions"
   ]
  },
  {
   "cell_type": "markdown",
   "metadata": {},
   "source": [
    "List the ten authors that made the most commits.\n",
    "\n",
    "* Count how often each author occurs in **git_log**, pick out the top ten authors, and assign the result to **top_10_authors**.\n",
    "\n",
    "In this task, the result that is stored in **top_10_authors** has to be a **Series** or a **DataFrame** that includes the authors and the number of commits that each author has made."
   ]
  },
  {
   "cell_type": "code",
   "execution_count": 4,
   "metadata": {},
   "outputs": [
    {
     "data": {
      "text/plain": [
       "Linus Torvalds           23361\n",
       "David S. Miller           9106\n",
       "Mark Brown                6802\n",
       "Takashi Iwai              6209\n",
       "Al Viro                   6006\n",
       "H Hartley Sweeten         5938\n",
       "Ingo Molnar               5344\n",
       "Mauro Carvalho Chehab     5204\n",
       "Arnd Bergmann             4890\n",
       "Greg Kroah-Hartman        4580\n",
       "Name: author, dtype: int64"
      ]
     },
     "execution_count": 4,
     "metadata": {},
     "output_type": "execute_result"
    }
   ],
   "source": [
    "top_10_authors = git_log['author'].value_counts().head(10)\n",
    "top_10_authors"
   ]
  },
  {
   "cell_type": "markdown",
   "metadata": {},
   "source": [
    "## 5. Wrangling the data"
   ]
  },
  {
   "cell_type": "markdown",
   "metadata": {},
   "source": [
    "For our analysis, we want to visualize the contributions over time. For this, we use the information in the timestamp column to create a time series-based column."
   ]
  },
  {
   "cell_type": "markdown",
   "metadata": {},
   "source": [
    "### Instructions"
   ]
  },
  {
   "cell_type": "markdown",
   "metadata": {},
   "source": [
    "Transform the numbers in **timestamp** to time series-based data type.\n",
    "\n",
    "* Convert the **timestamp** column to a Pandas' **Timestamp** type\n",
    "* Look at a summary of the converted **timestamp** column to check if the conversion was successful and if the boundary values make sense.\n",
    "\n",
    "Here is the [official Pandas documentation for how to convert these type of time stamps](http://pandas-docs.github.io/pandas-docs-travis/timeseries.html#epoch-timestamps) (called epoch time stamps) to Timestamp. Be sure to set the right unit of time (in our case: seconds) to the date conversion method. To summarize the resulting **Timestamp** column you could use the **describe()** method."
   ]
  },
  {
   "cell_type": "code",
   "execution_count": 5,
   "metadata": {},
   "outputs": [
    {
     "data": {
      "text/html": [
       "<div>\n",
       "<style scoped>\n",
       "    .dataframe tbody tr th:only-of-type {\n",
       "        vertical-align: middle;\n",
       "    }\n",
       "\n",
       "    .dataframe tbody tr th {\n",
       "        vertical-align: top;\n",
       "    }\n",
       "\n",
       "    .dataframe thead th {\n",
       "        text-align: right;\n",
       "    }\n",
       "</style>\n",
       "<table border=\"1\" class=\"dataframe\">\n",
       "  <thead>\n",
       "    <tr style=\"text-align: right;\">\n",
       "      <th></th>\n",
       "      <th>timestamp</th>\n",
       "      <th>author</th>\n",
       "    </tr>\n",
       "  </thead>\n",
       "  <tbody>\n",
       "    <tr>\n",
       "      <th>count</th>\n",
       "      <td>699071</td>\n",
       "      <td>699070</td>\n",
       "    </tr>\n",
       "    <tr>\n",
       "      <th>unique</th>\n",
       "      <td>668448</td>\n",
       "      <td>17385</td>\n",
       "    </tr>\n",
       "    <tr>\n",
       "      <th>top</th>\n",
       "      <td>2008-09-04 05:30:19</td>\n",
       "      <td>Linus Torvalds</td>\n",
       "    </tr>\n",
       "    <tr>\n",
       "      <th>freq</th>\n",
       "      <td>99</td>\n",
       "      <td>23361</td>\n",
       "    </tr>\n",
       "    <tr>\n",
       "      <th>first</th>\n",
       "      <td>1970-01-01 00:00:01</td>\n",
       "      <td>NaN</td>\n",
       "    </tr>\n",
       "    <tr>\n",
       "      <th>last</th>\n",
       "      <td>2037-04-25 08:08:26</td>\n",
       "      <td>NaN</td>\n",
       "    </tr>\n",
       "  </tbody>\n",
       "</table>\n",
       "</div>"
      ],
      "text/plain": [
       "                  timestamp          author\n",
       "count                699071          699070\n",
       "unique               668448           17385\n",
       "top     2008-09-04 05:30:19  Linus Torvalds\n",
       "freq                     99           23361\n",
       "first   1970-01-01 00:00:01             NaN\n",
       "last    2037-04-25 08:08:26             NaN"
      ]
     },
     "execution_count": 5,
     "metadata": {},
     "output_type": "execute_result"
    }
   ],
   "source": [
    "# converting the timestamp column\n",
    "git_log['timestamp'] = pd.to_datetime(git_log['timestamp'], unit='s')\n",
    "\n",
    "# summarizing the converted timestamp column\n",
    "git_log.describe()"
   ]
  },
  {
   "cell_type": "markdown",
   "metadata": {},
   "source": [
    "## 6. Treating wrong timestamps"
   ]
  },
  {
   "cell_type": "markdown",
   "metadata": {},
   "source": [
    "As we can see from the results above, some contributors had their operating system's time incorrectly set when they committed to the repository. We'll clean up the *timestamp column* by dropping the rows with the incorrect timestamps."
   ]
  },
  {
   "cell_type": "markdown",
   "metadata": {},
   "source": [
    "### Instructions"
   ]
  },
  {
   "cell_type": "markdown",
   "metadata": {},
   "source": [
    "Determine the beginning and the end of a time period where commits could have been made and filter out all timestamps that are wrong.\n",
    "\n",
    "* Pick out a resonable *first* timestamp when a commit could have been made and assign it to **first_commit_timestamp**.\n",
    "* Pick out a resonable *last* timestamp when a commit could have been made and assign it to **last_commit_timestamp**.\n",
    "* Create a new **DataFrame** called **corrected_log** with all the rows that have a **timestamp** within the time period **first_commit_timestamp** and **last_commit_timestamp**.\n",
    "* **describe()** the converted **corrected_log['timestamp']** column to check if the boundary dates now make more sense.\n",
    "\n",
    "Think about a time period that makes sense:\n",
    "\n",
    "* The first entry of the Git log file is the initial commit from Linus Torvalds.\n",
    "* The most recent commits can't be after today."
   ]
  },
  {
   "cell_type": "code",
   "execution_count": 6,
   "metadata": {},
   "outputs": [
    {
     "data": {
      "text/html": [
       "<div>\n",
       "<style scoped>\n",
       "    .dataframe tbody tr th:only-of-type {\n",
       "        vertical-align: middle;\n",
       "    }\n",
       "\n",
       "    .dataframe tbody tr th {\n",
       "        vertical-align: top;\n",
       "    }\n",
       "\n",
       "    .dataframe thead th {\n",
       "        text-align: right;\n",
       "    }\n",
       "</style>\n",
       "<table border=\"1\" class=\"dataframe\">\n",
       "  <thead>\n",
       "    <tr style=\"text-align: right;\">\n",
       "      <th></th>\n",
       "      <th>timestamp</th>\n",
       "      <th>author</th>\n",
       "    </tr>\n",
       "  </thead>\n",
       "  <tbody>\n",
       "    <tr>\n",
       "      <th>699070</th>\n",
       "      <td>2005-04-16 22:20:36</td>\n",
       "      <td>Linus Torvalds</td>\n",
       "    </tr>\n",
       "  </tbody>\n",
       "</table>\n",
       "</div>"
      ],
      "text/plain": [
       "                 timestamp          author\n",
       "699070 2005-04-16 22:20:36  Linus Torvalds"
      ]
     },
     "execution_count": 6,
     "metadata": {},
     "output_type": "execute_result"
    }
   ],
   "source": [
    "# determining the first real commit timestamp\n",
    "first_commit_timestamp = git_log[git_log['author'] == 'Linus Torvalds'].sort_values('timestamp').head(1)\n",
    "first_commit_timestamp"
   ]
  },
  {
   "cell_type": "code",
   "execution_count": 7,
   "metadata": {},
   "outputs": [
    {
     "data": {
      "text/plain": [
       "'2005-04-16 22:20:36'"
      ]
     },
     "execution_count": 7,
     "metadata": {},
     "output_type": "execute_result"
    }
   ],
   "source": [
    "str(first_commit_timestamp.iloc[0]['timestamp'])"
   ]
  },
  {
   "cell_type": "code",
   "execution_count": 8,
   "metadata": {},
   "outputs": [
    {
     "data": {
      "text/html": [
       "<div>\n",
       "<style scoped>\n",
       "    .dataframe tbody tr th:only-of-type {\n",
       "        vertical-align: middle;\n",
       "    }\n",
       "\n",
       "    .dataframe tbody tr th {\n",
       "        vertical-align: top;\n",
       "    }\n",
       "\n",
       "    .dataframe thead th {\n",
       "        text-align: right;\n",
       "    }\n",
       "</style>\n",
       "<table border=\"1\" class=\"dataframe\">\n",
       "  <thead>\n",
       "    <tr style=\"text-align: right;\">\n",
       "      <th></th>\n",
       "      <th>timestamp</th>\n",
       "      <th>author</th>\n",
       "    </tr>\n",
       "  </thead>\n",
       "  <tbody>\n",
       "    <tr>\n",
       "      <th>34060</th>\n",
       "      <td>2017-10-03 12:57:00</td>\n",
       "      <td>Michael Engl</td>\n",
       "    </tr>\n",
       "  </tbody>\n",
       "</table>\n",
       "</div>"
      ],
      "text/plain": [
       "                timestamp        author\n",
       "34060 2017-10-03 12:57:00  Michael Engl"
      ]
     },
     "execution_count": 8,
     "metadata": {},
     "output_type": "execute_result"
    }
   ],
   "source": [
    "# determining the last sensible commit timestamp\n",
    "last_commit_timestamp = git_log[git_log['timestamp'] \n",
    "                                < pd.to_datetime('today')].sort_values('timestamp', ascending=False).head(1)\n",
    "last_commit_timestamp"
   ]
  },
  {
   "cell_type": "code",
   "execution_count": 9,
   "metadata": {},
   "outputs": [
    {
     "data": {
      "text/plain": [
       "'2017-10-03 12:57:00'"
      ]
     },
     "execution_count": 9,
     "metadata": {},
     "output_type": "execute_result"
    }
   ],
   "source": [
    "str(last_commit_timestamp.iloc[0]['timestamp'])"
   ]
  },
  {
   "cell_type": "code",
   "execution_count": 10,
   "metadata": {},
   "outputs": [
    {
     "data": {
      "text/html": [
       "<div>\n",
       "<style scoped>\n",
       "    .dataframe tbody tr th:only-of-type {\n",
       "        vertical-align: middle;\n",
       "    }\n",
       "\n",
       "    .dataframe tbody tr th {\n",
       "        vertical-align: top;\n",
       "    }\n",
       "\n",
       "    .dataframe thead th {\n",
       "        text-align: right;\n",
       "    }\n",
       "</style>\n",
       "<table border=\"1\" class=\"dataframe\">\n",
       "  <thead>\n",
       "    <tr style=\"text-align: right;\">\n",
       "      <th></th>\n",
       "      <th>timestamp</th>\n",
       "      <th>author</th>\n",
       "    </tr>\n",
       "  </thead>\n",
       "  <tbody>\n",
       "    <tr>\n",
       "      <th>699070</th>\n",
       "      <td>2005-04-16 22:20:36</td>\n",
       "      <td>Linus Torvalds</td>\n",
       "    </tr>\n",
       "    <tr>\n",
       "      <th>699069</th>\n",
       "      <td>2005-04-16 22:23:53</td>\n",
       "      <td>Christoph Lameter</td>\n",
       "    </tr>\n",
       "    <tr>\n",
       "      <th>699068</th>\n",
       "      <td>2005-04-16 22:23:54</td>\n",
       "      <td>Neil Brown</td>\n",
       "    </tr>\n",
       "    <tr>\n",
       "      <th>699067</th>\n",
       "      <td>2005-04-16 22:23:55</td>\n",
       "      <td>akpm@osdl.org</td>\n",
       "    </tr>\n",
       "    <tr>\n",
       "      <th>699066</th>\n",
       "      <td>2005-04-16 22:23:56</td>\n",
       "      <td>akpm@osdl.org</td>\n",
       "    </tr>\n",
       "    <tr>\n",
       "      <th>699065</th>\n",
       "      <td>2005-04-16 22:23:57</td>\n",
       "      <td>akpm@osdl.org</td>\n",
       "    </tr>\n",
       "    <tr>\n",
       "      <th>699064</th>\n",
       "      <td>2005-04-16 22:23:57</td>\n",
       "      <td>akpm@osdl.org</td>\n",
       "    </tr>\n",
       "    <tr>\n",
       "      <th>699063</th>\n",
       "      <td>2005-04-16 22:23:58</td>\n",
       "      <td>Artem B. Bityuckiy</td>\n",
       "    </tr>\n",
       "    <tr>\n",
       "      <th>699062</th>\n",
       "      <td>2005-04-16 22:23:59</td>\n",
       "      <td>James Bottomley</td>\n",
       "    </tr>\n",
       "    <tr>\n",
       "      <th>699061</th>\n",
       "      <td>2005-04-16 22:24:00</td>\n",
       "      <td>akpm@osdl.org</td>\n",
       "    </tr>\n",
       "    <tr>\n",
       "      <th>699060</th>\n",
       "      <td>2005-04-16 22:24:01</td>\n",
       "      <td>Stas Sergeev</td>\n",
       "    </tr>\n",
       "    <tr>\n",
       "      <th>699059</th>\n",
       "      <td>2005-04-16 22:24:01</td>\n",
       "      <td>David S. Miller</td>\n",
       "    </tr>\n",
       "    <tr>\n",
       "      <th>699058</th>\n",
       "      <td>2005-04-16 22:24:02</td>\n",
       "      <td>akpm@osdl.org</td>\n",
       "    </tr>\n",
       "    <tr>\n",
       "      <th>699057</th>\n",
       "      <td>2005-04-16 22:24:03</td>\n",
       "      <td>James Morris</td>\n",
       "    </tr>\n",
       "    <tr>\n",
       "      <th>699056</th>\n",
       "      <td>2005-04-16 22:24:04</td>\n",
       "      <td>Dave Airlie</td>\n",
       "    </tr>\n",
       "    <tr>\n",
       "      <th>699055</th>\n",
       "      <td>2005-04-16 22:24:05</td>\n",
       "      <td>Jeff Moyer</td>\n",
       "    </tr>\n",
       "    <tr>\n",
       "      <th>699054</th>\n",
       "      <td>2005-04-16 22:24:05</td>\n",
       "      <td>Andrea Arcangeli</td>\n",
       "    </tr>\n",
       "    <tr>\n",
       "      <th>699053</th>\n",
       "      <td>2005-04-16 22:24:06</td>\n",
       "      <td>akpm@osdl.org</td>\n",
       "    </tr>\n",
       "    <tr>\n",
       "      <th>699052</th>\n",
       "      <td>2005-04-16 22:24:07</td>\n",
       "      <td>akpm@osdl.org</td>\n",
       "    </tr>\n",
       "    <tr>\n",
       "      <th>699051</th>\n",
       "      <td>2005-04-16 22:24:08</td>\n",
       "      <td>Martin Hicks</td>\n",
       "    </tr>\n",
       "    <tr>\n",
       "      <th>699050</th>\n",
       "      <td>2005-04-16 22:24:09</td>\n",
       "      <td>David S. Miller</td>\n",
       "    </tr>\n",
       "    <tr>\n",
       "      <th>699049</th>\n",
       "      <td>2005-04-16 22:24:09</td>\n",
       "      <td>Arnaldo Carvalho de Melo</td>\n",
       "    </tr>\n",
       "    <tr>\n",
       "      <th>699048</th>\n",
       "      <td>2005-04-16 22:24:10</td>\n",
       "      <td>Herbert Xu</td>\n",
       "    </tr>\n",
       "    <tr>\n",
       "      <th>699047</th>\n",
       "      <td>2005-04-16 22:24:11</td>\n",
       "      <td>Jean Tourrilhes</td>\n",
       "    </tr>\n",
       "    <tr>\n",
       "      <th>699046</th>\n",
       "      <td>2005-04-16 22:24:13</td>\n",
       "      <td>James Morris</td>\n",
       "    </tr>\n",
       "    <tr>\n",
       "      <th>699045</th>\n",
       "      <td>2005-04-16 22:24:14</td>\n",
       "      <td>Paul Mackerras</td>\n",
       "    </tr>\n",
       "    <tr>\n",
       "      <th>699044</th>\n",
       "      <td>2005-04-16 22:24:15</td>\n",
       "      <td>Eugene Surovegin</td>\n",
       "    </tr>\n",
       "    <tr>\n",
       "      <th>699043</th>\n",
       "      <td>2005-04-16 22:24:16</td>\n",
       "      <td>Paul Mackerras</td>\n",
       "    </tr>\n",
       "    <tr>\n",
       "      <th>699041</th>\n",
       "      <td>2005-04-16 22:24:17</td>\n",
       "      <td>Paul Mackerras</td>\n",
       "    </tr>\n",
       "    <tr>\n",
       "      <th>699042</th>\n",
       "      <td>2005-04-16 22:24:17</td>\n",
       "      <td>Paul Mackerras</td>\n",
       "    </tr>\n",
       "    <tr>\n",
       "      <th>...</th>\n",
       "      <td>...</td>\n",
       "      <td>...</td>\n",
       "    </tr>\n",
       "    <tr>\n",
       "      <th>79</th>\n",
       "      <td>2017-08-15 15:02:45</td>\n",
       "      <td>Julian Wiedmann</td>\n",
       "    </tr>\n",
       "    <tr>\n",
       "      <th>78</th>\n",
       "      <td>2017-08-15 15:02:46</td>\n",
       "      <td>Julian Wiedmann</td>\n",
       "    </tr>\n",
       "    <tr>\n",
       "      <th>77</th>\n",
       "      <td>2017-08-15 15:02:47</td>\n",
       "      <td>Julian Wiedmann</td>\n",
       "    </tr>\n",
       "    <tr>\n",
       "      <th>76</th>\n",
       "      <td>2017-08-15 15:02:48</td>\n",
       "      <td>Kittipon Meesompop</td>\n",
       "    </tr>\n",
       "    <tr>\n",
       "      <th>75</th>\n",
       "      <td>2017-08-15 15:02:49</td>\n",
       "      <td>Kittipon Meesompop</td>\n",
       "    </tr>\n",
       "    <tr>\n",
       "      <th>74</th>\n",
       "      <td>2017-08-15 15:02:50</td>\n",
       "      <td>Kittipon Meesompop</td>\n",
       "    </tr>\n",
       "    <tr>\n",
       "      <th>119</th>\n",
       "      <td>2017-08-15 15:10:08</td>\n",
       "      <td>Julia Lawall</td>\n",
       "    </tr>\n",
       "    <tr>\n",
       "      <th>118</th>\n",
       "      <td>2017-08-15 15:10:09</td>\n",
       "      <td>Julia Lawall</td>\n",
       "    </tr>\n",
       "    <tr>\n",
       "      <th>117</th>\n",
       "      <td>2017-08-15 15:10:10</td>\n",
       "      <td>Julia Lawall</td>\n",
       "    </tr>\n",
       "    <tr>\n",
       "      <th>116</th>\n",
       "      <td>2017-08-15 15:10:11</td>\n",
       "      <td>Julia Lawall</td>\n",
       "    </tr>\n",
       "    <tr>\n",
       "      <th>115</th>\n",
       "      <td>2017-08-15 15:10:12</td>\n",
       "      <td>Julia Lawall</td>\n",
       "    </tr>\n",
       "    <tr>\n",
       "      <th>200</th>\n",
       "      <td>2017-08-15 15:34:04</td>\n",
       "      <td>Arnd Bergmann</td>\n",
       "    </tr>\n",
       "    <tr>\n",
       "      <th>195</th>\n",
       "      <td>2017-08-15 15:34:52</td>\n",
       "      <td>Arnd Bergmann</td>\n",
       "    </tr>\n",
       "    <tr>\n",
       "      <th>194</th>\n",
       "      <td>2017-08-15 15:37:10</td>\n",
       "      <td>Arnd Bergmann</td>\n",
       "    </tr>\n",
       "    <tr>\n",
       "      <th>191</th>\n",
       "      <td>2017-08-15 15:51:51</td>\n",
       "      <td>Arnd Bergmann</td>\n",
       "    </tr>\n",
       "    <tr>\n",
       "      <th>190</th>\n",
       "      <td>2017-08-15 15:53:18</td>\n",
       "      <td>Sergei Shtylyov</td>\n",
       "    </tr>\n",
       "    <tr>\n",
       "      <th>189</th>\n",
       "      <td>2017-08-15 15:53:28</td>\n",
       "      <td>Sergei Shtylyov</td>\n",
       "    </tr>\n",
       "    <tr>\n",
       "      <th>188</th>\n",
       "      <td>2017-08-15 15:53:49</td>\n",
       "      <td>Arnd Bergmann</td>\n",
       "    </tr>\n",
       "    <tr>\n",
       "      <th>187</th>\n",
       "      <td>2017-08-15 15:54:13</td>\n",
       "      <td>Trond Myklebust</td>\n",
       "    </tr>\n",
       "    <tr>\n",
       "      <th>160</th>\n",
       "      <td>2017-08-15 15:57:44</td>\n",
       "      <td>Arnd Bergmann</td>\n",
       "    </tr>\n",
       "    <tr>\n",
       "      <th>155</th>\n",
       "      <td>2017-08-15 16:00:40</td>\n",
       "      <td>Arnd Bergmann</td>\n",
       "    </tr>\n",
       "    <tr>\n",
       "      <th>150</th>\n",
       "      <td>2017-08-15 16:04:01</td>\n",
       "      <td>Arnd Bergmann</td>\n",
       "    </tr>\n",
       "    <tr>\n",
       "      <th>148</th>\n",
       "      <td>2017-08-15 16:06:32</td>\n",
       "      <td>Arnd Bergmann</td>\n",
       "    </tr>\n",
       "    <tr>\n",
       "      <th>147</th>\n",
       "      <td>2017-08-15 16:07:52</td>\n",
       "      <td>Arnd Bergmann</td>\n",
       "    </tr>\n",
       "    <tr>\n",
       "      <th>121</th>\n",
       "      <td>2017-08-15 16:54:09</td>\n",
       "      <td>Thomas Tai</td>\n",
       "    </tr>\n",
       "    <tr>\n",
       "      <th>110</th>\n",
       "      <td>2017-08-15 17:19:14</td>\n",
       "      <td>David S. Miller</td>\n",
       "    </tr>\n",
       "    <tr>\n",
       "      <th>87</th>\n",
       "      <td>2017-08-15 17:40:58</td>\n",
       "      <td>Catalin Marinas</td>\n",
       "    </tr>\n",
       "    <tr>\n",
       "      <th>73</th>\n",
       "      <td>2017-08-15 17:58:40</td>\n",
       "      <td>David S. Miller</td>\n",
       "    </tr>\n",
       "    <tr>\n",
       "      <th>0</th>\n",
       "      <td>2017-08-15 19:49:43</td>\n",
       "      <td>Linus Torvalds</td>\n",
       "    </tr>\n",
       "    <tr>\n",
       "      <th>34060</th>\n",
       "      <td>2017-10-03 12:57:00</td>\n",
       "      <td>Michael Engl</td>\n",
       "    </tr>\n",
       "  </tbody>\n",
       "</table>\n",
       "<p>698569 rows × 2 columns</p>\n",
       "</div>"
      ],
      "text/plain": [
       "                 timestamp                    author\n",
       "699070 2005-04-16 22:20:36            Linus Torvalds\n",
       "699069 2005-04-16 22:23:53         Christoph Lameter\n",
       "699068 2005-04-16 22:23:54                Neil Brown\n",
       "699067 2005-04-16 22:23:55             akpm@osdl.org\n",
       "699066 2005-04-16 22:23:56             akpm@osdl.org\n",
       "699065 2005-04-16 22:23:57             akpm@osdl.org\n",
       "699064 2005-04-16 22:23:57             akpm@osdl.org\n",
       "699063 2005-04-16 22:23:58        Artem B. Bityuckiy\n",
       "699062 2005-04-16 22:23:59           James Bottomley\n",
       "699061 2005-04-16 22:24:00             akpm@osdl.org\n",
       "699060 2005-04-16 22:24:01              Stas Sergeev\n",
       "699059 2005-04-16 22:24:01           David S. Miller\n",
       "699058 2005-04-16 22:24:02             akpm@osdl.org\n",
       "699057 2005-04-16 22:24:03              James Morris\n",
       "699056 2005-04-16 22:24:04               Dave Airlie\n",
       "699055 2005-04-16 22:24:05                Jeff Moyer\n",
       "699054 2005-04-16 22:24:05          Andrea Arcangeli\n",
       "699053 2005-04-16 22:24:06             akpm@osdl.org\n",
       "699052 2005-04-16 22:24:07             akpm@osdl.org\n",
       "699051 2005-04-16 22:24:08              Martin Hicks\n",
       "699050 2005-04-16 22:24:09           David S. Miller\n",
       "699049 2005-04-16 22:24:09  Arnaldo Carvalho de Melo\n",
       "699048 2005-04-16 22:24:10                Herbert Xu\n",
       "699047 2005-04-16 22:24:11           Jean Tourrilhes\n",
       "699046 2005-04-16 22:24:13              James Morris\n",
       "699045 2005-04-16 22:24:14            Paul Mackerras\n",
       "699044 2005-04-16 22:24:15          Eugene Surovegin\n",
       "699043 2005-04-16 22:24:16            Paul Mackerras\n",
       "699041 2005-04-16 22:24:17            Paul Mackerras\n",
       "699042 2005-04-16 22:24:17            Paul Mackerras\n",
       "...                    ...                       ...\n",
       "79     2017-08-15 15:02:45           Julian Wiedmann\n",
       "78     2017-08-15 15:02:46           Julian Wiedmann\n",
       "77     2017-08-15 15:02:47           Julian Wiedmann\n",
       "76     2017-08-15 15:02:48        Kittipon Meesompop\n",
       "75     2017-08-15 15:02:49        Kittipon Meesompop\n",
       "74     2017-08-15 15:02:50        Kittipon Meesompop\n",
       "119    2017-08-15 15:10:08              Julia Lawall\n",
       "118    2017-08-15 15:10:09              Julia Lawall\n",
       "117    2017-08-15 15:10:10              Julia Lawall\n",
       "116    2017-08-15 15:10:11              Julia Lawall\n",
       "115    2017-08-15 15:10:12              Julia Lawall\n",
       "200    2017-08-15 15:34:04             Arnd Bergmann\n",
       "195    2017-08-15 15:34:52             Arnd Bergmann\n",
       "194    2017-08-15 15:37:10             Arnd Bergmann\n",
       "191    2017-08-15 15:51:51             Arnd Bergmann\n",
       "190    2017-08-15 15:53:18           Sergei Shtylyov\n",
       "189    2017-08-15 15:53:28           Sergei Shtylyov\n",
       "188    2017-08-15 15:53:49             Arnd Bergmann\n",
       "187    2017-08-15 15:54:13           Trond Myklebust\n",
       "160    2017-08-15 15:57:44             Arnd Bergmann\n",
       "155    2017-08-15 16:00:40             Arnd Bergmann\n",
       "150    2017-08-15 16:04:01             Arnd Bergmann\n",
       "148    2017-08-15 16:06:32             Arnd Bergmann\n",
       "147    2017-08-15 16:07:52             Arnd Bergmann\n",
       "121    2017-08-15 16:54:09                Thomas Tai\n",
       "110    2017-08-15 17:19:14           David S. Miller\n",
       "87     2017-08-15 17:40:58           Catalin Marinas\n",
       "73     2017-08-15 17:58:40           David S. Miller\n",
       "0      2017-08-15 19:49:43            Linus Torvalds\n",
       "34060  2017-10-03 12:57:00              Michael Engl\n",
       "\n",
       "[698569 rows x 2 columns]"
      ]
     },
     "execution_count": 10,
     "metadata": {},
     "output_type": "execute_result"
    }
   ],
   "source": [
    "# filtering out wrong timestamps\n",
    "greater_first = git_log[git_log['timestamp'] >= str(first_commit_timestamp.iloc[0]['timestamp'])]\n",
    "\n",
    "corrected_log = greater_first[greater_first['timestamp'] <= str(last_commit_timestamp.iloc[0]['timestamp'])]\n",
    "corrected_log.sort_values('timestamp')                 "
   ]
  },
  {
   "cell_type": "code",
   "execution_count": 11,
   "metadata": {},
   "outputs": [
    {
     "data": {
      "text/html": [
       "<div>\n",
       "<style scoped>\n",
       "    .dataframe tbody tr th:only-of-type {\n",
       "        vertical-align: middle;\n",
       "    }\n",
       "\n",
       "    .dataframe tbody tr th {\n",
       "        vertical-align: top;\n",
       "    }\n",
       "\n",
       "    .dataframe thead th {\n",
       "        text-align: right;\n",
       "    }\n",
       "</style>\n",
       "<table border=\"1\" class=\"dataframe\">\n",
       "  <thead>\n",
       "    <tr style=\"text-align: right;\">\n",
       "      <th></th>\n",
       "      <th>timestamp</th>\n",
       "      <th>author</th>\n",
       "    </tr>\n",
       "  </thead>\n",
       "  <tbody>\n",
       "    <tr>\n",
       "      <th>count</th>\n",
       "      <td>698569</td>\n",
       "      <td>698568</td>\n",
       "    </tr>\n",
       "    <tr>\n",
       "      <th>unique</th>\n",
       "      <td>667977</td>\n",
       "      <td>17375</td>\n",
       "    </tr>\n",
       "    <tr>\n",
       "      <th>top</th>\n",
       "      <td>2008-09-04 05:30:19</td>\n",
       "      <td>Linus Torvalds</td>\n",
       "    </tr>\n",
       "    <tr>\n",
       "      <th>freq</th>\n",
       "      <td>99</td>\n",
       "      <td>23361</td>\n",
       "    </tr>\n",
       "    <tr>\n",
       "      <th>first</th>\n",
       "      <td>2005-04-16 22:20:36</td>\n",
       "      <td>NaN</td>\n",
       "    </tr>\n",
       "    <tr>\n",
       "      <th>last</th>\n",
       "      <td>2017-10-03 12:57:00</td>\n",
       "      <td>NaN</td>\n",
       "    </tr>\n",
       "  </tbody>\n",
       "</table>\n",
       "</div>"
      ],
      "text/plain": [
       "                  timestamp          author\n",
       "count                698569          698568\n",
       "unique               667977           17375\n",
       "top     2008-09-04 05:30:19  Linus Torvalds\n",
       "freq                     99           23361\n",
       "first   2005-04-16 22:20:36             NaN\n",
       "last    2017-10-03 12:57:00             NaN"
      ]
     },
     "execution_count": 11,
     "metadata": {},
     "output_type": "execute_result"
    }
   ],
   "source": [
    "# summarizing the corrected timestamp column\n",
    "corrected_log.sort_values('timestamp').describe()"
   ]
  },
  {
   "cell_type": "markdown",
   "metadata": {},
   "source": [
    "## 7. Grouping commits per year"
   ]
  },
  {
   "cell_type": "markdown",
   "metadata": {},
   "source": [
    "To find out how the development activity has increased over time, we'll group the commits by year and count them up."
   ]
  },
  {
   "cell_type": "markdown",
   "metadata": {},
   "source": [
    "### Instructions"
   ]
  },
  {
   "cell_type": "markdown",
   "metadata": {},
   "source": [
    "Count the number of commits of the **corrected_log** for each year:\n",
    "\n",
    "* Create a new **DataFrame** called **commits_per_year** that sums up all commits annually, starting at January 1st.\n",
    "* Show the first five rows of the **DataFrame**\n",
    "\n",
    "There are many ways to accomplish this in Python using **pandas**. The **groupby** method can also group by a function, and you can use the utility function **Grouper** to make **groupby** group by year. Assuming that **pandas** was imported as **pd** then you can use **pd.Grouper** like this:\n",
    "\n",
    "![](img/04_070.png)\n",
    "\n",
    "Here setting **freq='AS'** makes **groupby** group by year using the start of each year (1st of January) as the cutoff."
   ]
  },
  {
   "cell_type": "code",
   "execution_count": 12,
   "metadata": {},
   "outputs": [
    {
     "data": {
      "text/html": [
       "<div>\n",
       "<style scoped>\n",
       "    .dataframe tbody tr th:only-of-type {\n",
       "        vertical-align: middle;\n",
       "    }\n",
       "\n",
       "    .dataframe tbody tr th {\n",
       "        vertical-align: top;\n",
       "    }\n",
       "\n",
       "    .dataframe thead th {\n",
       "        text-align: right;\n",
       "    }\n",
       "</style>\n",
       "<table border=\"1\" class=\"dataframe\">\n",
       "  <thead>\n",
       "    <tr style=\"text-align: right;\">\n",
       "      <th></th>\n",
       "      <th>author</th>\n",
       "    </tr>\n",
       "    <tr>\n",
       "      <th>timestamp</th>\n",
       "      <th></th>\n",
       "    </tr>\n",
       "  </thead>\n",
       "  <tbody>\n",
       "    <tr>\n",
       "      <th>2005-01-01</th>\n",
       "      <td>16229</td>\n",
       "    </tr>\n",
       "    <tr>\n",
       "      <th>2006-01-01</th>\n",
       "      <td>29255</td>\n",
       "    </tr>\n",
       "    <tr>\n",
       "      <th>2007-01-01</th>\n",
       "      <td>33759</td>\n",
       "    </tr>\n",
       "    <tr>\n",
       "      <th>2008-01-01</th>\n",
       "      <td>48847</td>\n",
       "    </tr>\n",
       "    <tr>\n",
       "      <th>2009-01-01</th>\n",
       "      <td>52572</td>\n",
       "    </tr>\n",
       "  </tbody>\n",
       "</table>\n",
       "</div>"
      ],
      "text/plain": [
       "            author\n",
       "timestamp         \n",
       "2005-01-01   16229\n",
       "2006-01-01   29255\n",
       "2007-01-01   33759\n",
       "2008-01-01   48847\n",
       "2009-01-01   52572"
      ]
     },
     "execution_count": 12,
     "metadata": {},
     "output_type": "execute_result"
    }
   ],
   "source": [
    "# Counting the no. commits per year\n",
    "commits_per_year = corrected_log.groupby(\n",
    "        pd.Grouper(\n",
    "            key='timestamp',\n",
    "            freq='AS'\n",
    "            )\n",
    "        ).count()\n",
    "\n",
    "# Listing the first rows\n",
    "commits_per_year.head(5)"
   ]
  },
  {
   "cell_type": "markdown",
   "metadata": {},
   "source": [
    "## 8. Visualizing the history of Linux"
   ]
  },
  {
   "cell_type": "markdown",
   "metadata": {},
   "source": [
    "Finally, we'll make a plot out of these counts to better see how the development effort on Linux has increased over the the last few years. "
   ]
  },
  {
   "cell_type": "markdown",
   "metadata": {},
   "source": [
    "### Instructions"
   ]
  },
  {
   "cell_type": "markdown",
   "metadata": {},
   "source": [
    "Visualize the yearly counts using a suitable plot.\n",
    "\n",
    "* Plot **commits_per_year** using the **pandas plot** method.\n",
    "* Add a suitable **title**.\n",
    "* Turn the **legend** off.\n",
    "\n",
    "The **plot** method in **pandas** takes many options that allow you to customize your plot. Here is [the official documentation for **plot** for Series](https://pandas.pydata.org/pandas-docs/stable/generated/pandas.Series.plot.html). That documentation contains a lot of info, but the arguments you might want to add here are **kind**, **title**, and **legend**."
   ]
  },
  {
   "cell_type": "code",
   "execution_count": 13,
   "metadata": {},
   "outputs": [
    {
     "data": {
      "image/png": "[encoded data removed]",
      "text/plain": [
       "<matplotlib.figure.Figure at 0x10dbc8a58>"
      ]
     },
     "metadata": {},
     "output_type": "display_data"
    }
   ],
   "source": [
    "# Setting up plotting in Jupyter notebooks\n",
    "import matplotlib.pyplot as plt\n",
    "%matplotlib inline\n",
    "\n",
    "# plot the data\n",
    "commits_per_year.plot(\n",
    "                    kind='line', \n",
    "                    title='Linux Commits per year', \n",
    "                    legend=False,\n",
    "                    color='red',\n",
    "                    grid=True\n",
    "                    )\n",
    "\n",
    "plt.xlabel('Year')\n",
    "plt.ylabel('Commits')\n",
    "plt.show()"
   ]
  },
  {
   "cell_type": "markdown",
   "metadata": {},
   "source": [
    "## 9. Conclusion"
   ]
  },
  {
   "cell_type": "markdown",
   "metadata": {},
   "source": [
    "Thanks to the solid foundation and caretaking of Linux Torvalds, many other developers are now able to contribute to the Linux kernel as well. There is no decrease of development activity at sight!"
   ]
  },
  {
   "cell_type": "markdown",
   "metadata": {
    "collapsed": true
   },
   "source": [
    "### Instructions"
   ]
  },
  {
   "cell_type": "markdown",
   "metadata": {},
   "source": [
    "Thanks for doing the project! As a last task:\n",
    "\n",
    "* Set year_with_most_commits to the year with the most commits to Linux (as of autumn 2017).\n",
    "\n",
    "**Further Reading**\n",
    "\n",
    "If you are more interested in mining software repositories, take a look at the following books:\n",
    "\n",
    "* Adam Tornhill: Software X-Ray. Pragmatic Programmers, 2018.\n",
    "* Christian Bird, Tim Menzies, Thomas Zimmermann: The Art and Science of Analyzing Software Data. Morgan Kaufmann, 2015.\n",
    "* Tim Menzies, Laurie Williams, Thomas Zimmermann: Perspectives on Data Science for Software Engineering. Morgan Kaufmann, 2016.\n",
    "\n",
    "**Reproducibility**\n",
    "\n",
    "Thanks to platforms like [GitHub](https://github.com/) or [SourceForge](https://sourceforge.net/), it's easy to analyze the evolution of software projects nowadays. E. g. for this exercise, I cloned the whole Git repository of Linux (~3.6 GB) from GitHub. I copied the repository onto my hard drive with \n",
    "\n",
    "![](img/04_090.png)\n",
    "\n",
    "and (after a few minutes of downloading) exported the history of the relevant information with \n",
    "\n",
    "![](img/04_091.png)\n",
    "\n",
    "that printed out the commit timestamp and the author. Be sure to set an encoding explicitly and to select a separator that doesn't occur in the data.\n",
    "\n",
    "Note: In rare cases, you'll need to use a non-printable character as separator. I found the \"DEVICE CONTROL TWO\" Unicode character **U+0012** very useful for this purpose.\n",
    "\n",
    "**Next Steps**\n",
    "\n",
    "There are many more parameters you can use with the **--pretty** option of **git log**. Have a look at the [Git documentation](https://git-scm.com/docs/git-log#_pretty_formats) for more details.\n",
    "\n",
    "If you want to know more about the Linux kernel development in general, you can dive into the [official documentation](https://github.com/torvalds/linux/blob/master/Documentation/process/1.Intro.rst#what-this-document-is-about) and start contributing to one of the most biggest open-source projects ever! :-)"
   ]
  },
  {
   "cell_type": "code",
   "execution_count": 14,
   "metadata": {},
   "outputs": [
    {
     "data": {
      "text/html": [
       "<div>\n",
       "<style scoped>\n",
       "    .dataframe tbody tr th:only-of-type {\n",
       "        vertical-align: middle;\n",
       "    }\n",
       "\n",
       "    .dataframe tbody tr th {\n",
       "        vertical-align: top;\n",
       "    }\n",
       "\n",
       "    .dataframe thead th {\n",
       "        text-align: right;\n",
       "    }\n",
       "</style>\n",
       "<table border=\"1\" class=\"dataframe\">\n",
       "  <thead>\n",
       "    <tr style=\"text-align: right;\">\n",
       "      <th></th>\n",
       "      <th>timestamp</th>\n",
       "      <th>author</th>\n",
       "    </tr>\n",
       "  </thead>\n",
       "  <tbody>\n",
       "    <tr>\n",
       "      <th>0</th>\n",
       "      <td>2005-01-01</td>\n",
       "      <td>16229</td>\n",
       "    </tr>\n",
       "    <tr>\n",
       "      <th>1</th>\n",
       "      <td>2006-01-01</td>\n",
       "      <td>29255</td>\n",
       "    </tr>\n",
       "    <tr>\n",
       "      <th>2</th>\n",
       "      <td>2007-01-01</td>\n",
       "      <td>33759</td>\n",
       "    </tr>\n",
       "    <tr>\n",
       "      <th>3</th>\n",
       "      <td>2008-01-01</td>\n",
       "      <td>48847</td>\n",
       "    </tr>\n",
       "    <tr>\n",
       "      <th>4</th>\n",
       "      <td>2009-01-01</td>\n",
       "      <td>52572</td>\n",
       "    </tr>\n",
       "    <tr>\n",
       "      <th>5</th>\n",
       "      <td>2010-01-01</td>\n",
       "      <td>49819</td>\n",
       "    </tr>\n",
       "    <tr>\n",
       "      <th>6</th>\n",
       "      <td>2011-01-01</td>\n",
       "      <td>56403</td>\n",
       "    </tr>\n",
       "    <tr>\n",
       "      <th>7</th>\n",
       "      <td>2012-01-01</td>\n",
       "      <td>65389</td>\n",
       "    </tr>\n",
       "    <tr>\n",
       "      <th>8</th>\n",
       "      <td>2013-01-01</td>\n",
       "      <td>71001</td>\n",
       "    </tr>\n",
       "    <tr>\n",
       "      <th>9</th>\n",
       "      <td>2014-01-01</td>\n",
       "      <td>75642</td>\n",
       "    </tr>\n",
       "    <tr>\n",
       "      <th>10</th>\n",
       "      <td>2015-01-01</td>\n",
       "      <td>75747</td>\n",
       "    </tr>\n",
       "    <tr>\n",
       "      <th>11</th>\n",
       "      <td>2016-01-01</td>\n",
       "      <td>76688</td>\n",
       "    </tr>\n",
       "    <tr>\n",
       "      <th>12</th>\n",
       "      <td>2017-01-01</td>\n",
       "      <td>47217</td>\n",
       "    </tr>\n",
       "  </tbody>\n",
       "</table>\n",
       "</div>"
      ],
      "text/plain": [
       "    timestamp  author\n",
       "0  2005-01-01   16229\n",
       "1  2006-01-01   29255\n",
       "2  2007-01-01   33759\n",
       "3  2008-01-01   48847\n",
       "4  2009-01-01   52572\n",
       "5  2010-01-01   49819\n",
       "6  2011-01-01   56403\n",
       "7  2012-01-01   65389\n",
       "8  2013-01-01   71001\n",
       "9  2014-01-01   75642\n",
       "10 2015-01-01   75747\n",
       "11 2016-01-01   76688\n",
       "12 2017-01-01   47217"
      ]
     },
     "execution_count": 14,
     "metadata": {},
     "output_type": "execute_result"
    }
   ],
   "source": [
    "commits_per_year.reset_index(inplace=True)\n",
    "commits_per_year"
   ]
  },
  {
   "cell_type": "code",
   "execution_count": 15,
   "metadata": {},
   "outputs": [
    {
     "data": {
      "text/plain": [
       "'2016-01-01 00:00:00'"
      ]
     },
     "execution_count": 15,
     "metadata": {},
     "output_type": "execute_result"
    }
   ],
   "source": [
    "ts = str(commits_per_year.nlargest(1, 'author').iloc[0][0])\n",
    "ts"
   ]
  },
  {
   "cell_type": "code",
   "execution_count": 16,
   "metadata": {},
   "outputs": [
    {
     "data": {
      "text/plain": [
       "2016"
      ]
     },
     "execution_count": 16,
     "metadata": {},
     "output_type": "execute_result"
    }
   ],
   "source": [
    "ts_year = ts[0:4]\n",
    "# calculating or setting the year with the most commits to Linux\n",
    "year_with_most_commits = int(ts_year)\n",
    "year_with_most_commits"
   ]
  }
 ],
 "metadata": {
  "kernelspec": {
   "display_name": "Python 3",
   "language": "python",
   "name": "python3"
  },
  "language_info": {
   "codemirror_mode": {
    "name": "ipython",
    "version": 3
   },
   "file_extension": ".py",
   "mimetype": "text/x-python",
   "name": "python",
   "nbconvert_exporter": "python",
   "pygments_lexer": "ipython3",
   "version": "3.6.0"
  }
 },
 "nbformat": 4,
 "nbformat_minor": 2
}
