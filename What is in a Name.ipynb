{
 "cells": [
  {
   "cell_type": "markdown",
   "metadata": {},
   "source": [
    "# What's in a Name\n",
    "## 1. Introduction to Baby Names Data"
   ]
  },
  {
   "cell_type": "markdown",
   "metadata": {},
   "source": [
    "In this project, you will explore the [baby names dataset](https://catalog.data.gov/dataset/baby-names-from-social-security-card-applications-national-level-data) compiled by the [Social Security Administration](https://www.ssa.gov). The data (name, year of birth, sex and number) are from a 100 percent sample of Social Security card applications after 1879. This dataset is a minehouse and contains lots of interesting stories to explore. In this project, you will explore some of these interesting stories around trendiness in names, and estimating a person's age from their name.\n",
    "\n",
    "[How to uncompress zip-files](https://www.digitalocean.com/community/tutorials/working-with-data-using-pandas-and-python-3)"
   ]
  },
  {
   "cell_type": "markdown",
   "metadata": {},
   "source": [
    "### 1.1 Uncompress Zip Archive"
   ]
  },
  {
   "cell_type": "code",
   "execution_count": 1,
   "metadata": {
    "collapsed": true
   },
   "outputs": [],
   "source": [
    "import zipfile\n",
    "\n",
    "# Extract the zip file into datasets/names directory\n",
    "zipfile.ZipFile('datasets/names.zip').extractall('datasets/names')"
   ]
  },
  {
   "cell_type": "markdown",
   "metadata": {},
   "source": [
    "Now if you look back into your **datasets/names** directory, you’ll have .txt files of name data in CSV format. These files will correspond with the years of data on file, 1881 through 2015. Each of these files follow a similar naming convention. The 2015 file, for example, is called yob2015.txt, while the 1927 file is called yob1927.txt.\n",
    "\n",
    "To look at the format of one of these files, let’s use Python to open one and display the top 5 lines:"
   ]
  },
  {
   "cell_type": "code",
   "execution_count": 2,
   "metadata": {},
   "outputs": [
    {
     "data": {
      "text/plain": [
       "['Emma,F,20415\\n',\n",
       " 'Olivia,F,19638\\n',\n",
       " 'Sophia,F,17381\\n',\n",
       " 'Ava,F,16340\\n',\n",
       " 'Isabella,F,15574\\n']"
      ]
     },
     "execution_count": 2,
     "metadata": {},
     "output_type": "execute_result"
    }
   ],
   "source": [
    "open('datasets/names/yob2015.txt','r').readlines()[:5]"
   ]
  },
  {
   "cell_type": "markdown",
   "metadata": {},
   "source": [
    "### 1.1.1 Load CSV Data into pandas"
   ]
  },
  {
   "cell_type": "markdown",
   "metadata": {},
   "source": [
    "To load comma-separated values data into pandas we’ll use the pd.read_csv() function, passing the name of the text file as well as column names that we decide on. We’ll assign this to a variable, in this case names2015 since we’re using the data from the 2015 year of birth file."
   ]
  },
  {
   "cell_type": "code",
   "execution_count": 3,
   "metadata": {},
   "outputs": [
    {
     "data": {
      "text/html": [
       "<div>\n",
       "<style scoped>\n",
       "    .dataframe tbody tr th:only-of-type {\n",
       "        vertical-align: middle;\n",
       "    }\n",
       "\n",
       "    .dataframe tbody tr th {\n",
       "        vertical-align: top;\n",
       "    }\n",
       "\n",
       "    .dataframe thead th {\n",
       "        text-align: right;\n",
       "    }\n",
       "</style>\n",
       "<table border=\"1\" class=\"dataframe\">\n",
       "  <thead>\n",
       "    <tr style=\"text-align: right;\">\n",
       "      <th></th>\n",
       "      <th>name</th>\n",
       "      <th>sex</th>\n",
       "      <th>births</th>\n",
       "    </tr>\n",
       "  </thead>\n",
       "  <tbody>\n",
       "    <tr>\n",
       "      <th>0</th>\n",
       "      <td>Emma</td>\n",
       "      <td>F</td>\n",
       "      <td>20415</td>\n",
       "    </tr>\n",
       "    <tr>\n",
       "      <th>1</th>\n",
       "      <td>Olivia</td>\n",
       "      <td>F</td>\n",
       "      <td>19638</td>\n",
       "    </tr>\n",
       "    <tr>\n",
       "      <th>2</th>\n",
       "      <td>Sophia</td>\n",
       "      <td>F</td>\n",
       "      <td>17381</td>\n",
       "    </tr>\n",
       "    <tr>\n",
       "      <th>3</th>\n",
       "      <td>Ava</td>\n",
       "      <td>F</td>\n",
       "      <td>16340</td>\n",
       "    </tr>\n",
       "    <tr>\n",
       "      <th>4</th>\n",
       "      <td>Isabella</td>\n",
       "      <td>F</td>\n",
       "      <td>15574</td>\n",
       "    </tr>\n",
       "  </tbody>\n",
       "</table>\n",
       "</div>"
      ],
      "text/plain": [
       "       name sex  births\n",
       "0      Emma   F   20415\n",
       "1    Olivia   F   19638\n",
       "2    Sophia   F   17381\n",
       "3       Ava   F   16340\n",
       "4  Isabella   F   15574"
      ]
     },
     "execution_count": 3,
     "metadata": {},
     "output_type": "execute_result"
    }
   ],
   "source": [
    "import pandas as pd\n",
    "\n",
    "bnames2015 = pd.read_csv('datasets/names/yob2015.txt', names = ['name', 'sex', 'births'])\n",
    "bnames2015.head()"
   ]
  },
  {
   "cell_type": "markdown",
   "metadata": {},
   "source": [
    "### 1.1.2 Concatenate pandas Objects"
   ]
  },
  {
   "cell_type": "markdown",
   "metadata": {},
   "source": [
    "Concatenating pandas objects will allow us to work with all the separate text files within the datasets/names directory.\n",
    "\n",
    "* To concatenate these, we’ll first need to initialize a list by assigning a variable to an unpopulated list data type\n",
    "\n",
    "* Within the loop, we’ll append to the list each of the text file values, using a string formatter to handle the different names of each of these files. We’ll pass those values to the year variable. Again, we’ll specify columns for Name, Sex, and the number of births.\n",
    "\n",
    "* Additionally, we’ll create a column for each of the years to keep those ordered. This we can do after each iteration by using the index of -1 to point to them as the loop progresses.\n",
    "\n",
    "* Finally, we’ll add it to the pandas object with concatenation using the pd.concat() function. We’ll use the variable all_names to store this information."
   ]
  },
  {
   "cell_type": "code",
   "execution_count": 4,
   "metadata": {},
   "outputs": [
    {
     "data": {
      "text/html": [
       "<div>\n",
       "<style scoped>\n",
       "    .dataframe tbody tr th:only-of-type {\n",
       "        vertical-align: middle;\n",
       "    }\n",
       "\n",
       "    .dataframe tbody tr th {\n",
       "        vertical-align: top;\n",
       "    }\n",
       "\n",
       "    .dataframe thead th {\n",
       "        text-align: right;\n",
       "    }\n",
       "</style>\n",
       "<table border=\"1\" class=\"dataframe\">\n",
       "  <thead>\n",
       "    <tr style=\"text-align: right;\">\n",
       "      <th></th>\n",
       "      <th>name</th>\n",
       "      <th>sex</th>\n",
       "      <th>births</th>\n",
       "      <th>year</th>\n",
       "    </tr>\n",
       "  </thead>\n",
       "  <tbody>\n",
       "    <tr>\n",
       "      <th>0</th>\n",
       "      <td>Mary</td>\n",
       "      <td>F</td>\n",
       "      <td>7065</td>\n",
       "      <td>1880</td>\n",
       "    </tr>\n",
       "    <tr>\n",
       "      <th>1</th>\n",
       "      <td>Anna</td>\n",
       "      <td>F</td>\n",
       "      <td>2604</td>\n",
       "      <td>1880</td>\n",
       "    </tr>\n",
       "    <tr>\n",
       "      <th>2</th>\n",
       "      <td>Emma</td>\n",
       "      <td>F</td>\n",
       "      <td>2003</td>\n",
       "      <td>1880</td>\n",
       "    </tr>\n",
       "    <tr>\n",
       "      <th>3</th>\n",
       "      <td>Elizabeth</td>\n",
       "      <td>F</td>\n",
       "      <td>1939</td>\n",
       "      <td>1880</td>\n",
       "    </tr>\n",
       "    <tr>\n",
       "      <th>4</th>\n",
       "      <td>Minnie</td>\n",
       "      <td>F</td>\n",
       "      <td>1746</td>\n",
       "      <td>1880</td>\n",
       "    </tr>\n",
       "  </tbody>\n",
       "</table>\n",
       "</div>"
      ],
      "text/plain": [
       "        name sex  births  year\n",
       "0       Mary   F    7065  1880\n",
       "1       Anna   F    2604  1880\n",
       "2       Emma   F    2003  1880\n",
       "3  Elizabeth   F    1939  1880\n",
       "4     Minnie   F    1746  1880"
      ]
     },
     "execution_count": 4,
     "metadata": {},
     "output_type": "execute_result"
    }
   ],
   "source": [
    "all_years = []\n",
    "\n",
    "for year in range(1880, 2015+1):\n",
    "    all_years.append(pd.read_csv('datasets/names/yob{}.txt'.format(year),\n",
    "                    names = ['name', 'sex', 'births']))\n",
    "    all_years[-1]['year'] = year\n",
    "    \n",
    "bnames = pd.concat(all_years)\n",
    "\n",
    "bnames.head()"
   ]
  },
  {
   "cell_type": "markdown",
   "metadata": {},
   "source": [
    "### 1.2 Getting the data from the DataCamp source (The content of this file names.csv.gz is slightly different than the original names.zip file from the SSA)"
   ]
  },
  {
   "cell_type": "markdown",
   "metadata": {},
   "source": [
    "### Instructions"
   ]
  },
  {
   "cell_type": "markdown",
   "metadata": {},
   "source": [
    "Welcome to your project! While working through the tasks in this project, please make sure to read the narrative for each task in the notebook on the right, before reading the more detailed instructions here!\n",
    "\n",
    "In this task, you will read the data from the csv file **datasets/names.csv.gz** and save it as a **DataFrame** named **bnames**\n",
    "\n",
    "* Import any additional libraries (e.g. pandas) that you might need.\n",
    "* Inspect the first few rows of the data to make sure you have the read the data correctly.\n",
    "\n",
    "If you print the first few rows of data, you should see a table resembling the one shown below.\n",
    "\n",
    "![](img/01.png)"
   ]
  },
  {
   "cell_type": "code",
   "execution_count": 5,
   "metadata": {},
   "outputs": [
    {
     "data": {
      "text/html": [
       "<div>\n",
       "<style scoped>\n",
       "    .dataframe tbody tr th:only-of-type {\n",
       "        vertical-align: middle;\n",
       "    }\n",
       "\n",
       "    .dataframe tbody tr th {\n",
       "        vertical-align: top;\n",
       "    }\n",
       "\n",
       "    .dataframe thead th {\n",
       "        text-align: right;\n",
       "    }\n",
       "</style>\n",
       "<table border=\"1\" class=\"dataframe\">\n",
       "  <thead>\n",
       "    <tr style=\"text-align: right;\">\n",
       "      <th></th>\n",
       "      <th>name</th>\n",
       "      <th>sex</th>\n",
       "      <th>births</th>\n",
       "      <th>year</th>\n",
       "    </tr>\n",
       "  </thead>\n",
       "  <tbody>\n",
       "    <tr>\n",
       "      <th>0</th>\n",
       "      <td>Mary</td>\n",
       "      <td>F</td>\n",
       "      <td>7065</td>\n",
       "      <td>1880</td>\n",
       "    </tr>\n",
       "    <tr>\n",
       "      <th>1</th>\n",
       "      <td>Anna</td>\n",
       "      <td>F</td>\n",
       "      <td>2604</td>\n",
       "      <td>1880</td>\n",
       "    </tr>\n",
       "    <tr>\n",
       "      <th>2</th>\n",
       "      <td>Emma</td>\n",
       "      <td>F</td>\n",
       "      <td>2003</td>\n",
       "      <td>1880</td>\n",
       "    </tr>\n",
       "    <tr>\n",
       "      <th>3</th>\n",
       "      <td>Elizabeth</td>\n",
       "      <td>F</td>\n",
       "      <td>1939</td>\n",
       "      <td>1880</td>\n",
       "    </tr>\n",
       "    <tr>\n",
       "      <th>4</th>\n",
       "      <td>Minnie</td>\n",
       "      <td>F</td>\n",
       "      <td>1746</td>\n",
       "      <td>1880</td>\n",
       "    </tr>\n",
       "  </tbody>\n",
       "</table>\n",
       "</div>"
      ],
      "text/plain": [
       "        name sex  births  year\n",
       "0       Mary   F    7065  1880\n",
       "1       Anna   F    2604  1880\n",
       "2       Emma   F    2003  1880\n",
       "3  Elizabeth   F    1939  1880\n",
       "4     Minnie   F    1746  1880"
      ]
     },
     "execution_count": 5,
     "metadata": {},
     "output_type": "execute_result"
    }
   ],
   "source": [
    "# Import modules\n",
    "import pandas as pd\n",
    "\n",
    "# Read names into a dataframe: bnames\n",
    "bnames = pd.read_csv('datasets/names.csv.gz')\n",
    "bnames.head()"
   ]
  },
  {
   "cell_type": "markdown",
   "metadata": {},
   "source": [
    "## 2. Exploring Trends in Names"
   ]
  },
  {
   "cell_type": "markdown",
   "metadata": {},
   "source": [
    "One of the first things we want to do is to understand naming trends. Let us start by figuring out the top five most popular male and female names for this decade (born 2011 and later). Do you want to make any guesses? Go on, be a sport!!"
   ]
  },
  {
   "cell_type": "markdown",
   "metadata": {},
   "source": [
    "### Instructions"
   ]
  },
  {
   "cell_type": "markdown",
   "metadata": {},
   "source": [
    "Create a new **DataFrame** called **bnames_top5** with the top five male and female names of this decade.\n",
    "\n",
    "* It should consist of the columns **sex**, **name**, and **births**.\n",
    "* Make sure to **filter**, **group**, **aggregate**, and **sort** your data appropriately, such that the top five most common female names of the decade are displayed before the top five most common male names of the decade.\n",
    "* Inspect your newly created **DataFrame** to make sure your analysis looks right.\n",
    "\n",
    "If you print **bnames_top5**, you should see some rows that resemble the table shown below.\n",
    "\n",
    "![](img/02.png)\n",
    "\n",
    "Note that some characters in the table have been redacted on purpose, so that we don't give away the solution."
   ]
  },
  {
   "cell_type": "code",
   "execution_count": 6,
   "metadata": {},
   "outputs": [
    {
     "data": {
      "text/html": [
       "<div>\n",
       "<style scoped>\n",
       "    .dataframe tbody tr th:only-of-type {\n",
       "        vertical-align: middle;\n",
       "    }\n",
       "\n",
       "    .dataframe tbody tr th {\n",
       "        vertical-align: top;\n",
       "    }\n",
       "\n",
       "    .dataframe thead th {\n",
       "        text-align: right;\n",
       "    }\n",
       "</style>\n",
       "<table border=\"1\" class=\"dataframe\">\n",
       "  <thead>\n",
       "    <tr style=\"text-align: right;\">\n",
       "      <th></th>\n",
       "      <th>sex</th>\n",
       "      <th>name</th>\n",
       "      <th>births</th>\n",
       "    </tr>\n",
       "  </thead>\n",
       "  <tbody>\n",
       "    <tr>\n",
       "      <th>0</th>\n",
       "      <td>F</td>\n",
       "      <td>Emma</td>\n",
       "      <td>121375</td>\n",
       "    </tr>\n",
       "    <tr>\n",
       "      <th>1</th>\n",
       "      <td>F</td>\n",
       "      <td>Sophia</td>\n",
       "      <td>117352</td>\n",
       "    </tr>\n",
       "    <tr>\n",
       "      <th>2</th>\n",
       "      <td>F</td>\n",
       "      <td>Olivia</td>\n",
       "      <td>111691</td>\n",
       "    </tr>\n",
       "    <tr>\n",
       "      <th>3</th>\n",
       "      <td>F</td>\n",
       "      <td>Isabella</td>\n",
       "      <td>103947</td>\n",
       "    </tr>\n",
       "    <tr>\n",
       "      <th>4</th>\n",
       "      <td>F</td>\n",
       "      <td>Ava</td>\n",
       "      <td>94507</td>\n",
       "    </tr>\n",
       "  </tbody>\n",
       "</table>\n",
       "</div>"
      ],
      "text/plain": [
       "  sex      name  births\n",
       "0   F      Emma  121375\n",
       "1   F    Sophia  117352\n",
       "2   F    Olivia  111691\n",
       "3   F  Isabella  103947\n",
       "4   F       Ava   94507"
      ]
     },
     "execution_count": 6,
     "metadata": {},
     "output_type": "execute_result"
    }
   ],
   "source": [
    "# bnames_top5: A dataframe with top 5 popular male and female names for the decade\n",
    "\n",
    "# get the actual decade, born 2011 and later\n",
    "bnames_2010 = bnames.loc[bnames['year'] > 2010]\n",
    "\n",
    "# group the data and sum the births\n",
    "bnames_2010_agg = bnames_2010.groupby(['sex', 'name'], as_index=False)['births'].sum()\n",
    "\n",
    "# sort sex and births\n",
    "bnames_top5 = bnames_2010_agg.sort_values(['sex', 'births'], \n",
    "                ascending=[True, False]).groupby('sex').head().reset_index(drop=True)\n",
    "\n",
    "bnames_top5.head(5)"
   ]
  },
  {
   "cell_type": "markdown",
   "metadata": {
    "collapsed": true
   },
   "source": [
    "## 3. Proportion of Births"
   ]
  },
  {
   "cell_type": "markdown",
   "metadata": {},
   "source": [
    "While the number of births is a useful metric, making comparisons across years becomes difficult, as one would have to control for population effects. One way around this is to normalize the number of births by the total number of births in that year."
   ]
  },
  {
   "cell_type": "markdown",
   "metadata": {},
   "source": [
    "### Instructions"
   ]
  },
  {
   "cell_type": "markdown",
   "metadata": {},
   "source": [
    "Add a new column containing the proportion of births by year.\n",
    "\n",
    "* Compute the proportion of births by dividing births by the total number of births in a year.\n",
    "* Add it as a new column to the data frame bnames2, that is a copy of the original bnames data.\n",
    "* Inspect the rows of bnames2 to ensure that you have it right. If you print a few rows of bnames2, you should see a table resembling the one shown below.\n",
    "\n",
    "![](img/03.png)\n",
    "\n",
    "Note that some characters in the table have been redacted on purpose, so that we don't give away the solution."
   ]
  },
  {
   "cell_type": "code",
   "execution_count": 7,
   "metadata": {},
   "outputs": [
    {
     "data": {
      "text/html": [
       "<div>\n",
       "<style scoped>\n",
       "    .dataframe tbody tr th:only-of-type {\n",
       "        vertical-align: middle;\n",
       "    }\n",
       "\n",
       "    .dataframe tbody tr th {\n",
       "        vertical-align: top;\n",
       "    }\n",
       "\n",
       "    .dataframe thead th {\n",
       "        text-align: right;\n",
       "    }\n",
       "</style>\n",
       "<table border=\"1\" class=\"dataframe\">\n",
       "  <thead>\n",
       "    <tr style=\"text-align: right;\">\n",
       "      <th></th>\n",
       "      <th>name</th>\n",
       "      <th>sex</th>\n",
       "      <th>births</th>\n",
       "      <th>year</th>\n",
       "      <th>prop_births</th>\n",
       "    </tr>\n",
       "  </thead>\n",
       "  <tbody>\n",
       "    <tr>\n",
       "      <th>0</th>\n",
       "      <td>Mary</td>\n",
       "      <td>F</td>\n",
       "      <td>7065</td>\n",
       "      <td>1880</td>\n",
       "      <td>0.035065</td>\n",
       "    </tr>\n",
       "    <tr>\n",
       "      <th>1</th>\n",
       "      <td>Anna</td>\n",
       "      <td>F</td>\n",
       "      <td>2604</td>\n",
       "      <td>1880</td>\n",
       "      <td>0.012924</td>\n",
       "    </tr>\n",
       "    <tr>\n",
       "      <th>2</th>\n",
       "      <td>Emma</td>\n",
       "      <td>F</td>\n",
       "      <td>2003</td>\n",
       "      <td>1880</td>\n",
       "      <td>0.009941</td>\n",
       "    </tr>\n",
       "    <tr>\n",
       "      <th>3</th>\n",
       "      <td>Elizabeth</td>\n",
       "      <td>F</td>\n",
       "      <td>1939</td>\n",
       "      <td>1880</td>\n",
       "      <td>0.009624</td>\n",
       "    </tr>\n",
       "    <tr>\n",
       "      <th>4</th>\n",
       "      <td>Minnie</td>\n",
       "      <td>F</td>\n",
       "      <td>1746</td>\n",
       "      <td>1880</td>\n",
       "      <td>0.008666</td>\n",
       "    </tr>\n",
       "  </tbody>\n",
       "</table>\n",
       "</div>"
      ],
      "text/plain": [
       "        name sex  births  year  prop_births\n",
       "0       Mary   F    7065  1880     0.035065\n",
       "1       Anna   F    2604  1880     0.012924\n",
       "2       Emma   F    2003  1880     0.009941\n",
       "3  Elizabeth   F    1939  1880     0.009624\n",
       "4     Minnie   F    1746  1880     0.008666"
      ]
     },
     "execution_count": 7,
     "metadata": {},
     "output_type": "execute_result"
    }
   ],
   "source": [
    "bnames2 = bnames.copy()\n",
    "\n",
    "# Compute the proportion of births by year and add it as a new column\n",
    "total_births_by_year = bnames.groupby('year')['births'].transform('sum')\n",
    "\n",
    "bnames2['prop_births'] = bnames2['births'] / total_births_by_year\n",
    "bnames2.head()"
   ]
  },
  {
   "cell_type": "code",
   "execution_count": 8,
   "metadata": {},
   "outputs": [
    {
     "data": {
      "text/html": [
       "<div>\n",
       "<style scoped>\n",
       "    .dataframe tbody tr th:only-of-type {\n",
       "        vertical-align: middle;\n",
       "    }\n",
       "\n",
       "    .dataframe tbody tr th {\n",
       "        vertical-align: top;\n",
       "    }\n",
       "\n",
       "    .dataframe thead th {\n",
       "        text-align: right;\n",
       "    }\n",
       "</style>\n",
       "<table border=\"1\" class=\"dataframe\">\n",
       "  <thead>\n",
       "    <tr style=\"text-align: right;\">\n",
       "      <th></th>\n",
       "      <th>name</th>\n",
       "      <th>sex</th>\n",
       "      <th>births</th>\n",
       "      <th>year</th>\n",
       "      <th>prop_births</th>\n",
       "    </tr>\n",
       "  </thead>\n",
       "  <tbody>\n",
       "    <tr>\n",
       "      <th>1891889</th>\n",
       "      <td>Zolton</td>\n",
       "      <td>M</td>\n",
       "      <td>5</td>\n",
       "      <td>2016</td>\n",
       "      <td>0.000001</td>\n",
       "    </tr>\n",
       "    <tr>\n",
       "      <th>1891890</th>\n",
       "      <td>Zurich</td>\n",
       "      <td>M</td>\n",
       "      <td>5</td>\n",
       "      <td>2016</td>\n",
       "      <td>0.000001</td>\n",
       "    </tr>\n",
       "    <tr>\n",
       "      <th>1891891</th>\n",
       "      <td>Zyahir</td>\n",
       "      <td>M</td>\n",
       "      <td>5</td>\n",
       "      <td>2016</td>\n",
       "      <td>0.000001</td>\n",
       "    </tr>\n",
       "    <tr>\n",
       "      <th>1891892</th>\n",
       "      <td>Zyel</td>\n",
       "      <td>M</td>\n",
       "      <td>5</td>\n",
       "      <td>2016</td>\n",
       "      <td>0.000001</td>\n",
       "    </tr>\n",
       "    <tr>\n",
       "      <th>1891893</th>\n",
       "      <td>Zylyn</td>\n",
       "      <td>M</td>\n",
       "      <td>5</td>\n",
       "      <td>2016</td>\n",
       "      <td>0.000001</td>\n",
       "    </tr>\n",
       "  </tbody>\n",
       "</table>\n",
       "</div>"
      ],
      "text/plain": [
       "           name sex  births  year  prop_births\n",
       "1891889  Zolton   M       5  2016     0.000001\n",
       "1891890  Zurich   M       5  2016     0.000001\n",
       "1891891  Zyahir   M       5  2016     0.000001\n",
       "1891892    Zyel   M       5  2016     0.000001\n",
       "1891893   Zylyn   M       5  2016     0.000001"
      ]
     },
     "execution_count": 8,
     "metadata": {},
     "output_type": "execute_result"
    }
   ],
   "source": [
    "bnames2.tail()"
   ]
  },
  {
   "cell_type": "markdown",
   "metadata": {},
   "source": [
    "## 4. Popularity of Names"
   ]
  },
  {
   "cell_type": "markdown",
   "metadata": {},
   "source": [
    "Now that we have the proportion of births, let us plot the popularity of a name through the years. How about plotting the popularity of the female names Elizabeth, and Deneen, and inspecting the underlying trends for any interesting patterns!"
   ]
  },
  {
   "cell_type": "markdown",
   "metadata": {},
   "source": [
    "### Instructions"
   ]
  },
  {
   "cell_type": "markdown",
   "metadata": {},
   "source": [
    "It is best to write a function to plot the trends, so that we can keep our code [DRY](https://en.wikipedia.org/wiki/Don%27t_repeat_yourself).\n",
    "\n",
    "* Write a function named **plot_trends** that takes two arguments, **name** and **sex**, and plots the trend in number of **births** by year.\n",
    "* Use the function to plot the popularity of the female names **Elizabeth** and **Deneen**.\n",
    "* Inspect the plots for peaks and fill out the values of **num_peaks_elizabeth** and **num_peaks_deneen**.\n",
    "\n",
    "Shown below is a snippet of the plot produced for a randomly selected name. This is provided here only to give you an idea of what is expected from the plotting function. Please make sure to label your axes and add an informative title.\n",
    "\n",
    "![](img/04.png)"
   ]
  },
  {
   "cell_type": "code",
   "execution_count": 9,
   "metadata": {},
   "outputs": [
    {
     "data": {
      "image/png": "[encoded data removed]",
      "text/plain": [
       "<matplotlib.figure.Figure at 0x11234f278>"
      ]
     },
     "metadata": {},
     "output_type": "display_data"
    },
    {
     "data": {
      "image/png": "[encoded data removed]",
      "text/plain": [
       "<matplotlib.figure.Figure at 0x11b921b70>"
      ]
     },
     "metadata": {},
     "output_type": "display_data"
    }
   ],
   "source": [
    "%matplotlib inline\n",
    "import matplotlib.pyplot as plt\n",
    "\n",
    "def plot_trends(name, sex):\n",
    "    data = bnames[(bnames.name == name) & (bnames.sex == sex)]\n",
    "    ax = data.plot(x = 'year', y = 'births')\n",
    "    ax.set_xlim(1880, 2016)\n",
    "    ax.set_xlabel('YEAR')\n",
    "    ax.set_ylabel('BIRTHS')\n",
    "    ax.set_title('NAME POPULARITY')\n",
    "    return ax\n",
    "\n",
    "for name in range(1):\n",
    "    plot_trends('Elizabeth', 'F')\n",
    "    plot_trends('Deneen', 'F')\n",
    "    \n",
    "# How many times did these female names peak? \n",
    "# ([PeakUtils](http://pythonhosted.org/PeakUtils/) seems to be an approbiate tool to detect the peaks)\n",
    "num_peaks_elizabeth = 3\n",
    "num_peaks_deneen    = 1"
   ]
  },
  {
   "cell_type": "markdown",
   "metadata": {},
   "source": [
    "## 5. Trendy vs. Stable Names"
   ]
  },
  {
   "cell_type": "markdown",
   "metadata": {},
   "source": [
    "Based on the plots we created earlier, we can see that **Elizabeth** is a fairly stable name, while **Deneen** is not. An interesting question to ask would be what are the top 5 stable and top 5 trendiest names. A stable name is one whose proportion across years does not vary drastically, while a trendy name is one whose popularity peaks for a short period and then dies down.\n",
    "\n",
    "There are many ways to measure trendiness. A simple measure would be to look at the maximum proportion of births for a name, normalized by the sum of proportion of births across years. \n",
    "\n",
    "For example, if the name Joe had the proportions 0.1, 0.2, 0.1, 0.1, then the trendiness measure would be 0.2/(0.1 + 0.2 + 0.1 + 0.1) which equals 0.5.\n",
    "\n",
    "Let us use this idea to figure out the top 10 trendy names in this data set, with at least a 1000 births."
   ]
  },
  {
   "cell_type": "markdown",
   "metadata": {},
   "source": [
    "### Instructions"
   ]
  },
  {
   "cell_type": "markdown",
   "metadata": {},
   "source": [
    "Create a new **DataFrame** named **top10_trendy_names** that consists of the top 10 trendy names in the dataset with at least a 1000 births.\n",
    "\n",
    "* The new data frame should include three new columns: **total**, **max** and **trendiness** for every **name** and **sex**.\n",
    "* The **total** column should represent total number of births across all years.\n",
    "* The **max** column should represent the maximum number of births in a year, across all years.\n",
    "* The **trendiness** column is computed as the **max** divided by the **total**.\n",
    "* Make sure to include only those names that have at least a 1000 births!\n",
    "\n",
    "If you print the first few rows of your data frame, you should see a table resembling this:\n",
    "\n",
    "![](img/05.png)\n",
    "\n",
    "Note that some characters in the table have been redacted on purpose, so that we don't give away the solution."
   ]
  },
  {
   "cell_type": "code",
   "execution_count": 10,
   "metadata": {},
   "outputs": [
    {
     "data": {
      "text/html": [
       "<div>\n",
       "<style scoped>\n",
       "    .dataframe tbody tr th:only-of-type {\n",
       "        vertical-align: middle;\n",
       "    }\n",
       "\n",
       "    .dataframe tbody tr th {\n",
       "        vertical-align: top;\n",
       "    }\n",
       "\n",
       "    .dataframe thead th {\n",
       "        text-align: right;\n",
       "    }\n",
       "</style>\n",
       "<table border=\"1\" class=\"dataframe\">\n",
       "  <thead>\n",
       "    <tr style=\"text-align: right;\">\n",
       "      <th></th>\n",
       "      <th>name</th>\n",
       "      <th>sex</th>\n",
       "      <th>total</th>\n",
       "      <th>max</th>\n",
       "      <th>trendiness</th>\n",
       "    </tr>\n",
       "  </thead>\n",
       "  <tbody>\n",
       "    <tr>\n",
       "      <th>0</th>\n",
       "      <td>Christop</td>\n",
       "      <td>M</td>\n",
       "      <td>1082</td>\n",
       "      <td>1082</td>\n",
       "      <td>1.000000</td>\n",
       "    </tr>\n",
       "    <tr>\n",
       "      <th>1</th>\n",
       "      <td>Royalty</td>\n",
       "      <td>F</td>\n",
       "      <td>1057</td>\n",
       "      <td>581</td>\n",
       "      <td>0.549669</td>\n",
       "    </tr>\n",
       "    <tr>\n",
       "      <th>2</th>\n",
       "      <td>Kizzy</td>\n",
       "      <td>F</td>\n",
       "      <td>2325</td>\n",
       "      <td>1116</td>\n",
       "      <td>0.480000</td>\n",
       "    </tr>\n",
       "    <tr>\n",
       "      <th>3</th>\n",
       "      <td>Aitana</td>\n",
       "      <td>F</td>\n",
       "      <td>1203</td>\n",
       "      <td>564</td>\n",
       "      <td>0.468828</td>\n",
       "    </tr>\n",
       "    <tr>\n",
       "      <th>4</th>\n",
       "      <td>Deneen</td>\n",
       "      <td>F</td>\n",
       "      <td>3602</td>\n",
       "      <td>1604</td>\n",
       "      <td>0.445308</td>\n",
       "    </tr>\n",
       "    <tr>\n",
       "      <th>5</th>\n",
       "      <td>Moesha</td>\n",
       "      <td>F</td>\n",
       "      <td>1067</td>\n",
       "      <td>426</td>\n",
       "      <td>0.399250</td>\n",
       "    </tr>\n",
       "    <tr>\n",
       "      <th>6</th>\n",
       "      <td>Marely</td>\n",
       "      <td>F</td>\n",
       "      <td>2527</td>\n",
       "      <td>1004</td>\n",
       "      <td>0.397309</td>\n",
       "    </tr>\n",
       "    <tr>\n",
       "      <th>7</th>\n",
       "      <td>Kanye</td>\n",
       "      <td>M</td>\n",
       "      <td>1304</td>\n",
       "      <td>507</td>\n",
       "      <td>0.388804</td>\n",
       "    </tr>\n",
       "    <tr>\n",
       "      <th>8</th>\n",
       "      <td>Tennille</td>\n",
       "      <td>F</td>\n",
       "      <td>2172</td>\n",
       "      <td>769</td>\n",
       "      <td>0.354052</td>\n",
       "    </tr>\n",
       "    <tr>\n",
       "      <th>9</th>\n",
       "      <td>Kadijah</td>\n",
       "      <td>F</td>\n",
       "      <td>1411</td>\n",
       "      <td>486</td>\n",
       "      <td>0.344437</td>\n",
       "    </tr>\n",
       "  </tbody>\n",
       "</table>\n",
       "</div>"
      ],
      "text/plain": [
       "       name sex  total   max  trendiness\n",
       "0  Christop   M   1082  1082    1.000000\n",
       "1   Royalty   F   1057   581    0.549669\n",
       "2     Kizzy   F   2325  1116    0.480000\n",
       "3    Aitana   F   1203   564    0.468828\n",
       "4    Deneen   F   3602  1604    0.445308\n",
       "5    Moesha   F   1067   426    0.399250\n",
       "6    Marely   F   2527  1004    0.397309\n",
       "7     Kanye   M   1304   507    0.388804\n",
       "8  Tennille   F   2172   769    0.354052\n",
       "9   Kadijah   F   1411   486    0.344437"
      ]
     },
     "execution_count": 10,
     "metadata": {},
     "output_type": "execute_result"
    }
   ],
   "source": [
    "# top10_trendy_names | A Data Frame of the top 10 most trendy names\n",
    "names = pd.DataFrame()\n",
    "name_and_sex_grouped = bnames.groupby(['name', 'sex'])\n",
    "names['total'] = name_and_sex_grouped['births'].sum()\n",
    "names['max'] = name_and_sex_grouped['births'].max()\n",
    "names['trendiness'] = names['max'] / names['total']\n",
    "top10_trendy_names = names.loc[names['total'] > 999].sort_values('trendiness', ascending=False).head(10).reset_index()\n",
    "top10_trendy_names.head(10)"
   ]
  },
  {
   "cell_type": "markdown",
   "metadata": {},
   "source": [
    "## 6. Bring in Mortality Data"
   ]
  },
  {
   "cell_type": "markdown",
   "metadata": {},
   "source": [
    "So, what more is in a name? Well, with some further work, it is possible to predict the age of a person based on the name (Whoa! Really????). For this, we will need actuarial data that can tell us the chances that someone is still alive, based on when they were born. Fortunately, the [SSA](https://www.ssa.gov/) provides detailed [actuarial life tables](https://www.ssa.gov/oact/STATS/table4c6.html) by birth cohorts.\n",
    "\n",
    "![](img/06.png)\n",
    "\n",
    "You can read the [documentation for the lifetables](https://www.ssa.gov/oact/NOTES/as120/LifeTables_Body.html) to understand what the different columns mean. The key column of interest to us is **lx**, which provides the number of people born in a year who live upto a given age. The probability of being alive can be derived as **lx by 100,000**.\n",
    "\n",
    "Given that 2016 is the latest year in the baby names dataset, we are interested only in a subset of this data, that will help us answer the question, **\"What percentage of people born in Year X are still alive in 2016?\"**\n",
    "\n",
    "Let us use this data and plot it to get a sense of the mortality distribution!"
   ]
  },
  {
   "cell_type": "markdown",
   "metadata": {},
   "source": [
    "### Instructions"
   ]
  },
  {
   "cell_type": "markdown",
   "metadata": {},
   "source": [
    "We have already scraped the actuarial tables and made them available as **datasets/lifetables.csv**. In this task, you will:\n",
    "\n",
    "* Create a data frame named **lifetables** by reading **lifetables.csv**.\n",
    "* Extract a subset of this data frame named **lifetables_2016**, that contains rows where **year** and **age** add up to 2016, as these are the rows relevant to answer the question of interest.\n",
    "* Plot **lx** vs **year** to get a sense of the mortality distribution in **lifetables_2016**.\n",
    "\n",
    "If you print a few rows of the data frame, you should see a table resembling the one shown below.\n",
    "\n",
    "![](img/061.png)"
   ]
  },
  {
   "cell_type": "code",
   "execution_count": 11,
   "metadata": {},
   "outputs": [
    {
     "data": {
      "text/html": [
       "<div>\n",
       "<style scoped>\n",
       "    .dataframe tbody tr th:only-of-type {\n",
       "        vertical-align: middle;\n",
       "    }\n",
       "\n",
       "    .dataframe tbody tr th {\n",
       "        vertical-align: top;\n",
       "    }\n",
       "\n",
       "    .dataframe thead th {\n",
       "        text-align: right;\n",
       "    }\n",
       "</style>\n",
       "<table border=\"1\" class=\"dataframe\">\n",
       "  <thead>\n",
       "    <tr style=\"text-align: right;\">\n",
       "      <th></th>\n",
       "      <th>year</th>\n",
       "      <th>age</th>\n",
       "      <th>qx</th>\n",
       "      <th>lx</th>\n",
       "      <th>dx</th>\n",
       "      <th>Lx</th>\n",
       "      <th>Tx</th>\n",
       "      <th>ex</th>\n",
       "      <th>sex</th>\n",
       "    </tr>\n",
       "  </thead>\n",
       "  <tbody>\n",
       "    <tr>\n",
       "      <th>116</th>\n",
       "      <td>1900</td>\n",
       "      <td>116</td>\n",
       "      <td>0.83363</td>\n",
       "      <td>0.0</td>\n",
       "      <td>0</td>\n",
       "      <td>0</td>\n",
       "      <td>0</td>\n",
       "      <td>0.69</td>\n",
       "      <td>M</td>\n",
       "    </tr>\n",
       "    <tr>\n",
       "      <th>236</th>\n",
       "      <td>1900</td>\n",
       "      <td>116</td>\n",
       "      <td>0.83363</td>\n",
       "      <td>0.0</td>\n",
       "      <td>0</td>\n",
       "      <td>0</td>\n",
       "      <td>0</td>\n",
       "      <td>0.69</td>\n",
       "      <td>F</td>\n",
       "    </tr>\n",
       "    <tr>\n",
       "      <th>346</th>\n",
       "      <td>1910</td>\n",
       "      <td>106</td>\n",
       "      <td>0.51178</td>\n",
       "      <td>7.0</td>\n",
       "      <td>3</td>\n",
       "      <td>5</td>\n",
       "      <td>9</td>\n",
       "      <td>1.38</td>\n",
       "      <td>M</td>\n",
       "    </tr>\n",
       "    <tr>\n",
       "      <th>466</th>\n",
       "      <td>1910</td>\n",
       "      <td>106</td>\n",
       "      <td>0.47062</td>\n",
       "      <td>61.0</td>\n",
       "      <td>29</td>\n",
       "      <td>47</td>\n",
       "      <td>92</td>\n",
       "      <td>1.52</td>\n",
       "      <td>F</td>\n",
       "    </tr>\n",
       "    <tr>\n",
       "      <th>576</th>\n",
       "      <td>1920</td>\n",
       "      <td>96</td>\n",
       "      <td>0.30765</td>\n",
       "      <td>1625.0</td>\n",
       "      <td>500</td>\n",
       "      <td>1,375</td>\n",
       "      <td>4,000</td>\n",
       "      <td>2.46</td>\n",
       "      <td>M</td>\n",
       "    </tr>\n",
       "  </tbody>\n",
       "</table>\n",
       "</div>"
      ],
      "text/plain": [
       "     year  age       qx      lx   dx     Lx     Tx    ex sex\n",
       "116  1900  116  0.83363     0.0    0      0      0  0.69   M\n",
       "236  1900  116  0.83363     0.0    0      0      0  0.69   F\n",
       "346  1910  106  0.51178     7.0    3      5      9  1.38   M\n",
       "466  1910  106  0.47062    61.0   29     47     92  1.52   F\n",
       "576  1920   96  0.30765  1625.0  500  1,375  4,000  2.46   M"
      ]
     },
     "execution_count": 11,
     "metadata": {},
     "output_type": "execute_result"
    }
   ],
   "source": [
    "# Read lifetables from datasets/lifetables.csv\n",
    "lifetables = pd.read_csv('datasets/lifetables.csv')\n",
    "\n",
    "# Extract subset relevant to those alive in 2016\n",
    "lifetables_2016 = lifetables[lifetables['year'] + lifetables['age'] == 2016]\n",
    "lifetables_2016.head()"
   ]
  },
  {
   "cell_type": "code",
   "execution_count": 12,
   "metadata": {},
   "outputs": [
    {
     "data": {
      "image/png": "[encoded data removed]",
      "text/plain": [
       "<matplotlib.figure.Figure at 0x11fa72da0>"
      ]
     },
     "metadata": {},
     "output_type": "display_data"
    }
   ],
   "source": [
    "# Plot the mortality distribution: year vs. lx\n",
    "lifetables_2016.plot(x='year', y='lx');"
   ]
  },
  {
   "cell_type": "markdown",
   "metadata": {},
   "source": [
    "## 7. Smoothen the Curve!"
   ]
  },
  {
   "cell_type": "markdown",
   "metadata": {},
   "source": [
    "We are almost there. There is just one small glitch. The cohort life tables are provided only for every decade. In order to figure out the distribution of people alive, we need the probabilities for every year. One way to fill up the gaps in the data is to use some kind of interpolation. Let us keep things simple and use linear interpolation to fill out the gaps in values of **lx**, between the years **1900** and **2016**."
   ]
  },
  {
   "cell_type": "markdown",
   "metadata": {},
   "source": [
    "### Instructions"
   ]
  },
  {
   "cell_type": "markdown",
   "metadata": {},
   "source": [
    "* Create a new data frame **lifetable_2016_s** from **lifetables** that consists of years from 1900 to 2010.\n",
    "* Linearly interpolate values of **lx**, where they are missing. You might want to use the **.interpolate** function from **pandas**.\n",
    "\n",
    "If you print the first few rows of **lifetable_2016_s**, you should see a table that resembles\n",
    "\n",
    "![](img/07.png)\n",
    "\n"
   ]
  },
  {
   "cell_type": "code",
   "execution_count": 13,
   "metadata": {},
   "outputs": [
    {
     "data": {
      "text/plain": [
       "array([1900, 1901, 1902, 1903, 1904, 1905, 1906, 1907, 1908, 1909, 1910,\n",
       "       1911, 1912, 1913, 1914, 1915, 1916, 1917, 1918, 1919, 1920, 1921,\n",
       "       1922, 1923, 1924, 1925, 1926, 1927, 1928, 1929, 1930, 1931, 1932,\n",
       "       1933, 1934, 1935, 1936, 1937, 1938, 1939, 1940, 1941, 1942, 1943,\n",
       "       1944, 1945, 1946, 1947, 1948, 1949, 1950, 1951, 1952, 1953, 1954,\n",
       "       1955, 1956, 1957, 1958, 1959, 1960, 1961, 1962, 1963, 1964, 1965,\n",
       "       1966, 1967, 1968, 1969, 1970, 1971, 1972, 1973, 1974, 1975, 1976,\n",
       "       1977, 1978, 1979, 1980, 1981, 1982, 1983, 1984, 1985, 1986, 1987,\n",
       "       1988, 1989, 1990, 1991, 1992, 1993, 1994, 1995, 1996, 1997, 1998,\n",
       "       1999, 2000, 2001, 2002, 2003, 2004, 2005, 2006, 2007, 2008, 2009,\n",
       "       2010, 2011, 2012, 2013, 2014, 2015])"
      ]
     },
     "execution_count": 13,
     "metadata": {},
     "output_type": "execute_result"
    }
   ],
   "source": [
    "import numpy as np\n",
    "year = np.arange(1900, 2016)\n",
    "year"
   ]
  },
  {
   "cell_type": "code",
   "execution_count": 14,
   "metadata": {},
   "outputs": [
    {
     "data": {
      "text/html": [
       "<div>\n",
       "<style scoped>\n",
       "    .dataframe tbody tr th:only-of-type {\n",
       "        vertical-align: middle;\n",
       "    }\n",
       "\n",
       "    .dataframe tbody tr th {\n",
       "        vertical-align: top;\n",
       "    }\n",
       "\n",
       "    .dataframe thead th {\n",
       "        text-align: right;\n",
       "    }\n",
       "</style>\n",
       "<table border=\"1\" class=\"dataframe\">\n",
       "  <thead>\n",
       "    <tr style=\"text-align: right;\">\n",
       "      <th></th>\n",
       "      <th>year</th>\n",
       "      <th>lx</th>\n",
       "      <th>sex</th>\n",
       "    </tr>\n",
       "  </thead>\n",
       "  <tbody>\n",
       "    <tr>\n",
       "      <th>0</th>\n",
       "      <td>1900</td>\n",
       "      <td>0.0</td>\n",
       "      <td>F</td>\n",
       "    </tr>\n",
       "    <tr>\n",
       "      <th>1</th>\n",
       "      <td>1901</td>\n",
       "      <td>6.1</td>\n",
       "      <td>F</td>\n",
       "    </tr>\n",
       "    <tr>\n",
       "      <th>2</th>\n",
       "      <td>1902</td>\n",
       "      <td>12.2</td>\n",
       "      <td>F</td>\n",
       "    </tr>\n",
       "    <tr>\n",
       "      <th>3</th>\n",
       "      <td>1903</td>\n",
       "      <td>18.3</td>\n",
       "      <td>F</td>\n",
       "    </tr>\n",
       "    <tr>\n",
       "      <th>4</th>\n",
       "      <td>1904</td>\n",
       "      <td>24.4</td>\n",
       "      <td>F</td>\n",
       "    </tr>\n",
       "  </tbody>\n",
       "</table>\n",
       "</div>"
      ],
      "text/plain": [
       "   year    lx sex\n",
       "0  1900   0.0   F\n",
       "1  1901   6.1   F\n",
       "2  1902  12.2   F\n",
       "3  1903  18.3   F\n",
       "4  1904  24.4   F"
      ]
     },
     "execution_count": 14,
     "metadata": {},
     "output_type": "execute_result"
    }
   ],
   "source": [
    "# Create smoothened lifetable_2016_s by interpolating values of lx\n",
    "year = np.arange(1900, 2016)\n",
    "mf = {\"M\": pd.DataFrame(), \"F\": pd.DataFrame()}\n",
    "for sex in [\"M\", \"F\"]:\n",
    "    d = lifetables_2016[lifetables_2016['sex'] == sex][[\"year\", \"lx\"]]\n",
    "    mf[sex] = d.set_index('year').reindex(year).interpolate().reset_index()\n",
    "    mf[sex]['sex'] = sex\n",
    "\n",
    "lifetable_2016_s = pd.concat(mf, ignore_index = True)\n",
    "lifetable_2016_s.head()    "
   ]
  },
  {
   "cell_type": "markdown",
   "metadata": {},
   "source": [
    "## 8. Distribution of People Alive by Name"
   ]
  },
  {
   "cell_type": "markdown",
   "metadata": {},
   "source": [
    "Now that we have all the required data, we need a few helper functions to help us with our analysis.\n",
    "\n",
    "The first function we will write is **get_data**, which takes name and sex as inputs and returns a data frame with the distribution of number of births and number of people alive by year.\n",
    "\n",
    "The second function is **plot_name** which accepts the same arguments as get_data, but returns a line plot of the distribution of number of births, overlaid by an area plot of the number alive by year.\n",
    "\n",
    "Using these functions, we will plot the distribution of births for boys named **Joseph** and girls named **Brittany**."
   ]
  },
  {
   "cell_type": "markdown",
   "metadata": {},
   "source": [
    "### Instructions"
   ]
  },
  {
   "cell_type": "markdown",
   "metadata": {},
   "source": [
    "In this task, you will write two functions: **get_data**, and **plot_name**.\n",
    "\n",
    "get_data\n",
    "\n",
    "* The **get_data** function should takes name and sex as inputs and returns a **DataFrame**.\n",
    "* It should consist of the number of births (**births**) and number of people alive (**n_alive**) by year, for each name. - - One way to accomplish this is to merge the **lifetable_2016_s** data with **bnames**, and computing the number of people alive by multiplying **lx** and **births** and dividing the result by 100,000.\n",
    "* If you run **get_data(\"Joseph\", \"M\")**, you should get a **DataFrame**, with the following columns. Your values for **lx** and **n_alive** might vary from the values shown above, depending on how you interpolated your lifetables. That is fine and will not lead to any issues during testing.\n",
    "\n",
    "![](img/08.png)\n",
    "\n",
    "plot_name\n",
    "\n",
    "* The **plot_name** function should plot the data frame to display the distribution of births and number living.\n",
    "* You might want to look at using the **plot** methods in **pandas** to do this.\n",
    "* The plot for girls named **Brittany** should look somewhat like the plot shown below. Your actual plot might look a little different based on how you interpolated the data.\n",
    "\n",
    "![](img/081.png)"
   ]
  },
  {
   "cell_type": "code",
   "execution_count": 15,
   "metadata": {},
   "outputs": [
    {
     "data": {
      "image/png": "[encoded data removed]",
      "text/plain": [
       "<matplotlib.figure.Figure at 0x11c64e198>"
      ]
     },
     "metadata": {},
     "output_type": "display_data"
    },
    {
     "data": {
      "image/png": "[encoded data removed]",
      "text/plain": [
       "<matplotlib.figure.Figure at 0x11c6741d0>"
      ]
     },
     "metadata": {},
     "output_type": "display_data"
    }
   ],
   "source": [
    "def get_data(name, sex):\n",
    "    name_sex = ((bnames['name'] == name) & \n",
    "                (bnames['sex'] == sex))\n",
    "    data = bnames[name_sex].merge(lifetable_2016_s)\n",
    "    data['n_alive'] = data['lx']/(10**5)*data['births']\n",
    "    return data\n",
    "    \n",
    "\n",
    "def plot_data(name, sex):\n",
    "    fig, ax = plt.subplots()\n",
    "    dat = get_data(name, sex)\n",
    "    dat.plot(x = 'year', y = 'births', ax = ax, \n",
    "               color = 'black', title = name + ' ' + sex)\n",
    "    dat.plot(x = 'year', y = 'n_alive', \n",
    "              kind = 'area', ax = ax, \n",
    "              color = 'steelblue', alpha = 0.8)\n",
    "    ax.set_xlim(1900, 2016)\n",
    "    \n",
    "    return \n",
    "    \n",
    "# Plot the distribution of births and number alive for Joseph and Brittany\n",
    "for p in range(1):\n",
    "    plot_data('Joseph', 'M')\n",
    "    plot_data('Brittany', 'F')"
   ]
  },
  {
   "cell_type": "markdown",
   "metadata": {},
   "source": [
    "## 9. Estimate Age"
   ]
  },
  {
   "cell_type": "markdown",
   "metadata": {},
   "source": [
    "In this section, we want to figure out the probability that a person with a certain name is alive, as well as the quantiles of their age distribution. In particular, we will estimate the age of a female named **Gertrude**. Any guesses on how old a person with this name is? How about a male named **William**?"
   ]
  },
  {
   "cell_type": "markdown",
   "metadata": {},
   "source": [
    "### Instructions"
   ]
  },
  {
   "cell_type": "markdown",
   "metadata": {},
   "source": [
    "In this task, you will:\n",
    "\n",
    "* Write a function named **estimate_age** that accepts two arguments **name** and **sex**.\n",
    "* It should returns a **pd.Series** object with the indices **name**, **p_alive** (probability of being alive), **q25**, **q50** and **q75** (age quantiles).\n",
    "* As we are dealing with weighted data, you might want to use the **quantile** function from the **wquantiles** module to compute the quantiles. Note that the **quantile** function, accepts a data array and a weights array.\n",
    "* Use this function to estimate the age of **Gertrude**.\n",
    "\n",
    "If you call the function **estimate_age** with a specific **name** and **sex**, your output should resemble something like this:\n",
    "\n",
    "![](img/09.png)"
   ]
  },
  {
   "cell_type": "code",
   "execution_count": 16,
   "metadata": {
    "collapsed": true
   },
   "outputs": [],
   "source": [
    "# %load wquantiles.py\n",
    "\"\"\"\n",
    "Library to compute weighted quantiles, including the weighted median, of\n",
    "numpy arrays.\n",
    "\"\"\"\n",
    "from __future__ import print_function\n",
    "import numpy as np\n",
    "\n",
    "__version__ = \"0.4\"\n",
    "\n",
    "\n",
    "def quantile_1D(data, weights, quantile):\n",
    "    \"\"\"\n",
    "    Compute the weighted quantile of a 1D numpy array.\n",
    "\n",
    "    Parameters\n",
    "    ----------\n",
    "    data : ndarray\n",
    "        Input array (one dimension).\n",
    "    weights : ndarray\n",
    "        Array with the weights of the same size of `data`.\n",
    "    quantile : float\n",
    "        Quantile to compute. It must have a value between 0 and 1.\n",
    "\n",
    "    Returns\n",
    "    -------\n",
    "    quantile_1D : float\n",
    "        The output value.\n",
    "    \"\"\"\n",
    "    # Check the data\n",
    "    if not isinstance(data, np.matrix):\n",
    "        data = np.asarray(data)\n",
    "    if not isinstance(weights, np.matrix):\n",
    "        weights = np.asarray(weights)\n",
    "    nd = data.ndim\n",
    "    if nd != 1:\n",
    "        raise TypeError(\"data must be a one dimensional array\")\n",
    "    ndw = weights.ndim\n",
    "    if ndw != 1:\n",
    "        raise TypeError(\"weights must be a one dimensional array\")\n",
    "    if data.shape != weights.shape:\n",
    "        raise TypeError(\"the length of data and weights must be the same\")\n",
    "    if ((quantile > 1.) or (quantile < 0.)):\n",
    "        raise ValueError(\"quantile must have a value between 0. and 1.\")\n",
    "    # Sort the data\n",
    "    ind_sorted = np.argsort(data)\n",
    "    sorted_data = data[ind_sorted]\n",
    "    sorted_weights = weights[ind_sorted]\n",
    "    # Compute the auxiliary arrays\n",
    "    Sn = np.cumsum(sorted_weights)\n",
    "    # TODO: Check that the weights do not sum zero\n",
    "    #assert Sn != 0, \"The sum of the weights must not be zero\"\n",
    "    Pn = (Sn-0.5*sorted_weights)/np.sum(sorted_weights)\n",
    "    # Get the value of the weighted median\n",
    "    return np.interp(quantile, Pn, sorted_data)\n",
    "\n",
    "\n",
    "def quantile(data, weights, quantile):\n",
    "    \"\"\"\n",
    "    Weighted quantile of an array with respect to the last axis.\n",
    "\n",
    "    Parameters\n",
    "    ----------\n",
    "    data : ndarray\n",
    "        Input array.\n",
    "    weights : ndarray\n",
    "        Array with the weights. It must have the same size of the last \n",
    "        axis of `data`.\n",
    "    quantile : float\n",
    "        Quantile to compute. It must have a value between 0 and 1.\n",
    "\n",
    "    Returns\n",
    "    -------\n",
    "    quantile : float\n",
    "        The output value.\n",
    "    \"\"\"\n",
    "    # TODO: Allow to specify the axis\n",
    "    nd = data.ndim\n",
    "    if nd == 0:\n",
    "        TypeError(\"data must have at least one dimension\")\n",
    "    elif nd == 1:\n",
    "        return quantile_1D(data, weights, quantile)\n",
    "    elif nd > 1:\n",
    "        n = data.shape\n",
    "        imr = data.reshape((np.prod(n[:-1]), n[-1]))\n",
    "        result = np.apply_along_axis(quantile_1D, -1, imr, weights, quantile)\n",
    "        return result.reshape(n[:-1])\n",
    "\n",
    "\n",
    "def median(data, weights):\n",
    "    \"\"\"\n",
    "    Weighted median of an array with respect to the last axis.\n",
    "\n",
    "    Alias for `quantile(data, weights, 0.5)`.\n",
    "    \"\"\"\n",
    "    return quantile(data, weights, 0.5)\n"
   ]
  },
  {
   "cell_type": "code",
   "execution_count": 17,
   "metadata": {},
   "outputs": [
    {
     "data": {
      "text/plain": [
       "name       Gertrude\n",
       "p_alive       18.73\n",
       "q25              70\n",
       "q50              80\n",
       "q75              89\n",
       "sex               F\n",
       "dtype: object"
      ]
     },
     "execution_count": 17,
     "metadata": {},
     "output_type": "execute_result"
    }
   ],
   "source": [
    "# import modules\n",
    "# from wquantiles import quantile --> does not work properly to install, so just use the downloaded wquantiles.py file\n",
    "\n",
    "\n",
    "# Function to estimate age quantiles\n",
    "def estimate_age(name, sex):\n",
    "    data = get_data(name, sex)\n",
    "    qs = [0.75, 0.5, 0.25]\n",
    "    quantiles = [2016 - int(quantile(data.year, data.n_alive, q)) for q in qs]\n",
    "    result = dict(zip(['q25', 'q50', 'q75'], quantiles))\n",
    "    result['p_alive'] = round(data.n_alive.sum()/data.births.sum()*100, 2)\n",
    "    result['sex'] = sex\n",
    "    result['name'] = name\n",
    "    return pd.Series(result)\n",
    "# Estimate the age of Gertrude\n",
    "estimate_age('Gertrude', 'F')"
   ]
  },
  {
   "cell_type": "markdown",
   "metadata": {
    "collapsed": true
   },
   "source": [
    "## 10. Median Age of Top 10 Female Names"
   ]
  },
  {
   "cell_type": "markdown",
   "metadata": {},
   "source": [
    "In the previous section, we estimated the age of a female named Gertrude. Let's go one step further this time, and compute the 25th, 50th and 75th percentiles of age, and the probability of being alive for the top 10 most common female names of all time. This should give us some interesting insights on how these names stack up in terms of median ages!"
   ]
  },
  {
   "cell_type": "markdown",
   "metadata": {},
   "source": [
    "### Instructions"
   ]
  },
  {
   "cell_type": "markdown",
   "metadata": {},
   "source": [
    "* Extract the top 10 female names of all time from the **bnames** dataset.\n",
    "* Use the **estimate_age** function on each of the 10 names to create a **DataFrame** named **median_ages**\n",
    "* **median_ages** should contain the columns: **name**, **p_alive**, **q25**, **q50**, **q75** and **sex**.\n",
    "* Make sure to sort the resulting data frame by the median age **q50**."
   ]
  },
  {
   "cell_type": "code",
   "execution_count": 18,
   "metadata": {},
   "outputs": [
    {
     "data": {
      "text/html": [
       "<div>\n",
       "<style scoped>\n",
       "    .dataframe tbody tr th:only-of-type {\n",
       "        vertical-align: middle;\n",
       "    }\n",
       "\n",
       "    .dataframe tbody tr th {\n",
       "        vertical-align: top;\n",
       "    }\n",
       "\n",
       "    .dataframe thead th {\n",
       "        text-align: right;\n",
       "    }\n",
       "</style>\n",
       "<table border=\"1\" class=\"dataframe\">\n",
       "  <thead>\n",
       "    <tr style=\"text-align: right;\">\n",
       "      <th></th>\n",
       "      <th>name</th>\n",
       "      <th>p_alive</th>\n",
       "      <th>q25</th>\n",
       "      <th>q50</th>\n",
       "      <th>q75</th>\n",
       "      <th>sex</th>\n",
       "    </tr>\n",
       "  </thead>\n",
       "  <tbody>\n",
       "    <tr>\n",
       "      <th>0</th>\n",
       "      <td>Sarah</td>\n",
       "      <td>86.05</td>\n",
       "      <td>20</td>\n",
       "      <td>30</td>\n",
       "      <td>38</td>\n",
       "      <td>F</td>\n",
       "    </tr>\n",
       "    <tr>\n",
       "      <th>1</th>\n",
       "      <td>Elizabeth</td>\n",
       "      <td>74.49</td>\n",
       "      <td>23</td>\n",
       "      <td>38</td>\n",
       "      <td>58</td>\n",
       "      <td>F</td>\n",
       "    </tr>\n",
       "    <tr>\n",
       "      <th>2</th>\n",
       "      <td>Jennifer</td>\n",
       "      <td>96.35</td>\n",
       "      <td>31</td>\n",
       "      <td>38</td>\n",
       "      <td>44</td>\n",
       "      <td>F</td>\n",
       "    </tr>\n",
       "    <tr>\n",
       "      <th>3</th>\n",
       "      <td>Susan</td>\n",
       "      <td>85.8</td>\n",
       "      <td>52</td>\n",
       "      <td>59</td>\n",
       "      <td>65</td>\n",
       "      <td>F</td>\n",
       "    </tr>\n",
       "    <tr>\n",
       "      <th>4</th>\n",
       "      <td>Patricia</td>\n",
       "      <td>76.75</td>\n",
       "      <td>54</td>\n",
       "      <td>63</td>\n",
       "      <td>71</td>\n",
       "      <td>F</td>\n",
       "    </tr>\n",
       "  </tbody>\n",
       "</table>\n",
       "</div>"
      ],
      "text/plain": [
       "        name p_alive q25 q50 q75 sex\n",
       "0      Sarah   86.05  20  30  38   F\n",
       "1  Elizabeth   74.49  23  38  58   F\n",
       "2   Jennifer   96.35  31  38  44   F\n",
       "3      Susan    85.8  52  59  65   F\n",
       "4   Patricia   76.75  54  63  71   F"
      ]
     },
     "execution_count": 18,
     "metadata": {},
     "output_type": "execute_result"
    }
   ],
   "source": [
    "# Create median_ages: DataFrame with Top 10 Female names, \n",
    "#    age percentiles and probability of being alive\n",
    "\n",
    "top_10_female_names = bnames.\\\n",
    "  groupby(['name', 'sex'], as_index = False).\\\n",
    "  agg({'births': np.sum}).\\\n",
    "  sort_values('births', ascending = False).\\\n",
    "  query('sex == \"F\"').\\\n",
    "  head(10).\\\n",
    "  reset_index(drop = True)\n",
    "estimates = pd.concat([estimate_age(name, 'F') for name in top_10_female_names.name], axis = 1)\n",
    "median_ages = estimates.T.sort_values('q50').reset_index(drop = True)\n",
    "median_ages.head()"
   ]
  },
  {
   "cell_type": "code",
   "execution_count": null,
   "metadata": {
    "collapsed": true
   },
   "outputs": [],
   "source": []
  }
 ],
 "metadata": {
  "kernelspec": {
   "display_name": "Python 3",
   "language": "python",
   "name": "python3"
  },
  "language_info": {
   "codemirror_mode": {
    "name": "ipython",
    "version": 3
   },
   "file_extension": ".py",
   "mimetype": "text/x-python",
   "name": "python",
   "nbconvert_exporter": "python",
   "pygments_lexer": "ipython3",
   "version": "3.6.0"
  }
 },
 "nbformat": 4,
 "nbformat_minor": 2
}
